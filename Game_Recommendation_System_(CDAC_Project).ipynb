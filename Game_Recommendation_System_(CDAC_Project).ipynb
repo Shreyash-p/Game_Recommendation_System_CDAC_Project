{
  "nbformat": 4,
  "nbformat_minor": 0,
  "metadata": {
    "colab": {
      "provenance": []
    },
    "kernelspec": {
      "name": "python3",
      "display_name": "Python 3"
    },
    "language_info": {
      "name": "python"
    }
  },
  "cells": [
    {
      "cell_type": "code",
      "execution_count": 1,
      "metadata": {
        "colab": {
          "base_uri": "https://localhost:8080/"
        },
        "id": "O3S_43RzAfIj",
        "outputId": "e373e842-fda0-4fa1-b1b1-15a3132e814b"
      },
      "outputs": [
        {
          "output_type": "stream",
          "name": "stdout",
          "text": [
            "Collecting pyspark\n",
            "  Downloading pyspark-3.4.1.tar.gz (310.8 MB)\n",
            "\u001b[2K     \u001b[90m━━━━━━━━━━━━━━━━━━━━━━━━━━━━━━━━━━━━━━━\u001b[0m \u001b[32m310.8/310.8 MB\u001b[0m \u001b[31m4.2 MB/s\u001b[0m eta \u001b[36m0:00:00\u001b[0m\n",
            "\u001b[?25h  Preparing metadata (setup.py) ... \u001b[?25l\u001b[?25hdone\n",
            "Requirement already satisfied: py4j==0.10.9.7 in /usr/local/lib/python3.10/dist-packages (from pyspark) (0.10.9.7)\n",
            "Building wheels for collected packages: pyspark\n",
            "  Building wheel for pyspark (setup.py) ... \u001b[?25l\u001b[?25hdone\n",
            "  Created wheel for pyspark: filename=pyspark-3.4.1-py2.py3-none-any.whl size=311285387 sha256=23bc9db4c4337e68700df33a92ea3a587fcd8340d5e97a9dcebd6e9bf77782d8\n",
            "  Stored in directory: /root/.cache/pip/wheels/0d/77/a3/ff2f74cc9ab41f8f594dabf0579c2a7c6de920d584206e0834\n",
            "Successfully built pyspark\n",
            "Installing collected packages: pyspark\n",
            "Successfully installed pyspark-3.4.1\n"
          ]
        }
      ],
      "source": [
        "pip install pyspark"
      ]
    },
    {
      "cell_type": "code",
      "source": [
        "from pyspark.sql import SparkSession\n",
        "from pyspark.sql.functions import col, count, when\n",
        "import matplotlib.pyplot as plt\n",
        "import seaborn as sns"
      ],
      "metadata": {
        "id": "WZrdWslEAprw"
      },
      "execution_count": 2,
      "outputs": []
    },
    {
      "cell_type": "code",
      "source": [
        "spark = SparkSession.builder.appName(\"Game_Recommendation_System\").getOrCreate()"
      ],
      "metadata": {
        "id": "syU7IQ8bFoWB"
      },
      "execution_count": 3,
      "outputs": []
    },
    {
      "cell_type": "code",
      "source": [
        "# Reading Data\n",
        "recom = spark.read.csv(\"/content/recommendations.csv\", header=True, inferSchema=True)\n",
        "games = spark.read.csv(\"/content/games.csv\", header=True, inferSchema=True)"
      ],
      "metadata": {
        "id": "2WYPxS-aAuJR"
      },
      "execution_count": 17,
      "outputs": []
    },
    {
      "cell_type": "code",
      "source": [
        "games.show(10)"
      ],
      "metadata": {
        "colab": {
          "base_uri": "https://localhost:8080/"
        },
        "id": "anc-FYCPA52J",
        "outputId": "9e215c80-c21c-4e20-f3fc-3114f5408321"
      },
      "execution_count": 18,
      "outputs": [
        {
          "output_type": "stream",
          "name": "stdout",
          "text": [
            "+------+--------------------+------------+----+-----+-----+---------------+--------------+------------+-----------+--------------+--------+----------+\n",
            "|app_id|               title|date_release| win|  mac|linux|         rating|positive_ratio|user_reviews|price_final|price_original|discount|steam_deck|\n",
            "+------+--------------------+------------+----+-----+-----+---------------+--------------+------------+-----------+--------------+--------+----------+\n",
            "| 13500|Prince of Persia:...|  2008-11-21|true|false|false|  Very Positive|            84|        2199|       9.99|          9.99|     0.0|      true|\n",
            "| 22364|BRINK: Agents of ...|  2011-08-03|true|false|false|       Positive|            85|          21|       2.99|          2.99|     0.0|      true|\n",
            "|113020|Monaco: What's Yo...|  2013-04-24|true| true| true|  Very Positive|            92|        3722|      14.99|         14.99|     0.0|      true|\n",
            "|226560|  Escape Dead Island|  2014-11-18|true|false|false|          Mixed|            61|         873|      14.99|         14.99|     0.0|      true|\n",
            "|249050|Dungeon of the EN...|  2014-10-27|true| true|false|  Very Positive|            88|        8784|      11.99|         11.99|     0.0|      true|\n",
            "|250180|        METAL SLUG 3|  2015-09-14|true|false|false|  Very Positive|            90|        5579|       7.99|          7.99|     0.0|      true|\n",
            "|253980|             Enclave|  2013-10-04|true| true| true|Mostly Positive|            75|        1608|       4.99|          4.99|     0.0|      true|\n",
            "|271850|Men of War: Assau...|  2014-05-16|true|false|false|          Mixed|            61|         199|       6.99|          6.99|     0.0|      true|\n",
            "|282900|Hyperdimension Ne...|  2015-01-29|true|false|false|  Very Positive|            94|        9686|      14.99|         14.99|     0.0|      true|\n",
            "| 19810|The Sum of All Fears|  2008-10-10|true|false|false|Mostly Positive|            75|          33|       9.99|          9.99|     0.0|      true|\n",
            "+------+--------------------+------------+----+-----+-----+---------------+--------------+------------+-----------+--------------+--------+----------+\n",
            "only showing top 10 rows\n",
            "\n"
          ]
        }
      ]
    },
    {
      "cell_type": "code",
      "source": [
        "recom.show(10)"
      ],
      "metadata": {
        "colab": {
          "base_uri": "https://localhost:8080/"
        },
        "id": "U1oT2IKwA5yq",
        "outputId": "650c221c-fb32-4b06-be2f-515064572059"
      },
      "execution_count": 19,
      "outputs": [
        {
          "output_type": "stream",
          "name": "stdout",
          "text": [
            "+-------+-------+-----+-------------------+--------------+-----+-------+---------+\n",
            "| app_id|helpful|funny|               date|is_recommended|hours|user_id|review_id|\n",
            "+-------+-------+-----+-------------------+--------------+-----+-------+---------+\n",
            "| 975370|      0|    0|2022-12-12 00:00:00|          true| 36.3|  47199|        0|\n",
            "| 304390|      4|    0|2017-02-17 00:00:00|         false| 11.5|   2376|        1|\n",
            "|1085660|      2|    0|2019-11-17 00:00:00|          true|336.5| 230757|        2|\n",
            "| 703080|      0|    0|2022-09-23 00:00:00|          true| 27.4| 235736|        3|\n",
            "| 526870|      0|    0|2021-01-10 00:00:00|          true|  7.9|  21721|        4|\n",
            "| 306130|      0|    0|2021-10-10 00:00:00|          true|  8.6|  41543|        5|\n",
            "| 238960|      0|    0|2017-11-25 00:00:00|          true|538.8|  80787|        6|\n",
            "|    730|      0|    0|2021-11-30 00:00:00|         false|157.5|  57879|        7|\n",
            "| 255710|      0|    0|2021-05-21 00:00:00|          true| 18.7| 321815|        8|\n",
            "| 289070|      0|    0|2020-05-26 00:00:00|          true|397.5| 412440|        9|\n",
            "+-------+-------+-----+-------------------+--------------+-----+-------+---------+\n",
            "only showing top 10 rows\n",
            "\n"
          ]
        }
      ]
    },
    {
      "cell_type": "code",
      "source": [
        "games.printSchema()"
      ],
      "metadata": {
        "colab": {
          "base_uri": "https://localhost:8080/"
        },
        "id": "zOKIvLAUBVt_",
        "outputId": "d98b906a-dfdd-4f50-d44e-09636faffa72"
      },
      "execution_count": 20,
      "outputs": [
        {
          "output_type": "stream",
          "name": "stdout",
          "text": [
            "root\n",
            " |-- app_id: integer (nullable = true)\n",
            " |-- title: string (nullable = true)\n",
            " |-- date_release: date (nullable = true)\n",
            " |-- win: boolean (nullable = true)\n",
            " |-- mac: boolean (nullable = true)\n",
            " |-- linux: boolean (nullable = true)\n",
            " |-- rating: string (nullable = true)\n",
            " |-- positive_ratio: integer (nullable = true)\n",
            " |-- user_reviews: integer (nullable = true)\n",
            " |-- price_final: double (nullable = true)\n",
            " |-- price_original: double (nullable = true)\n",
            " |-- discount: double (nullable = true)\n",
            " |-- steam_deck: boolean (nullable = true)\n",
            "\n"
          ]
        }
      ]
    },
    {
      "cell_type": "code",
      "source": [
        "recom.printSchema()"
      ],
      "metadata": {
        "colab": {
          "base_uri": "https://localhost:8080/"
        },
        "id": "ApsYk0icBVny",
        "outputId": "dcbd948a-aee2-468a-e7a3-449e37abd27e"
      },
      "execution_count": 21,
      "outputs": [
        {
          "output_type": "stream",
          "name": "stdout",
          "text": [
            "root\n",
            " |-- app_id: integer (nullable = true)\n",
            " |-- helpful: integer (nullable = true)\n",
            " |-- funny: integer (nullable = true)\n",
            " |-- date: timestamp (nullable = true)\n",
            " |-- is_recommended: boolean (nullable = true)\n",
            " |-- hours: double (nullable = true)\n",
            " |-- user_id: integer (nullable = true)\n",
            " |-- review_id: integer (nullable = true)\n",
            "\n"
          ]
        }
      ]
    },
    {
      "cell_type": "code",
      "source": [
        "# Deleting unnecessary columns\n",
        "dropg = ['date_release', 'discount', 'steam_deck', 'price_original']\n",
        "dropr = ['helpful', 'funny', 'date', 'review_id']\n",
        "\n",
        "games = games.drop(*dropg)\n",
        "recom = recom.drop(*dropr)"
      ],
      "metadata": {
        "id": "MGkH8pJoA5wN"
      },
      "execution_count": 22,
      "outputs": []
    },
    {
      "cell_type": "code",
      "source": [
        "games.show(10)"
      ],
      "metadata": {
        "colab": {
          "base_uri": "https://localhost:8080/"
        },
        "id": "UWc5hoeaBJwo",
        "outputId": "70be0d4b-1f07-41d7-b28a-373a7c1e7107"
      },
      "execution_count": 23,
      "outputs": [
        {
          "output_type": "stream",
          "name": "stdout",
          "text": [
            "+------+--------------------+----+-----+-----+---------------+--------------+------------+-----------+\n",
            "|app_id|               title| win|  mac|linux|         rating|positive_ratio|user_reviews|price_final|\n",
            "+------+--------------------+----+-----+-----+---------------+--------------+------------+-----------+\n",
            "| 13500|Prince of Persia:...|true|false|false|  Very Positive|            84|        2199|       9.99|\n",
            "| 22364|BRINK: Agents of ...|true|false|false|       Positive|            85|          21|       2.99|\n",
            "|113020|Monaco: What's Yo...|true| true| true|  Very Positive|            92|        3722|      14.99|\n",
            "|226560|  Escape Dead Island|true|false|false|          Mixed|            61|         873|      14.99|\n",
            "|249050|Dungeon of the EN...|true| true|false|  Very Positive|            88|        8784|      11.99|\n",
            "|250180|        METAL SLUG 3|true|false|false|  Very Positive|            90|        5579|       7.99|\n",
            "|253980|             Enclave|true| true| true|Mostly Positive|            75|        1608|       4.99|\n",
            "|271850|Men of War: Assau...|true|false|false|          Mixed|            61|         199|       6.99|\n",
            "|282900|Hyperdimension Ne...|true|false|false|  Very Positive|            94|        9686|      14.99|\n",
            "| 19810|The Sum of All Fears|true|false|false|Mostly Positive|            75|          33|       9.99|\n",
            "+------+--------------------+----+-----+-----+---------------+--------------+------------+-----------+\n",
            "only showing top 10 rows\n",
            "\n"
          ]
        }
      ]
    },
    {
      "cell_type": "code",
      "source": [
        "recom.show(10)"
      ],
      "metadata": {
        "colab": {
          "base_uri": "https://localhost:8080/"
        },
        "id": "GfJAPWatBJud",
        "outputId": "2bec25d9-0cfa-4aa4-c68f-b62b72e531b4"
      },
      "execution_count": 24,
      "outputs": [
        {
          "output_type": "stream",
          "name": "stdout",
          "text": [
            "+-------+--------------+-----+-------+\n",
            "| app_id|is_recommended|hours|user_id|\n",
            "+-------+--------------+-----+-------+\n",
            "| 975370|          true| 36.3|  47199|\n",
            "| 304390|         false| 11.5|   2376|\n",
            "|1085660|          true|336.5| 230757|\n",
            "| 703080|          true| 27.4| 235736|\n",
            "| 526870|          true|  7.9|  21721|\n",
            "| 306130|          true|  8.6|  41543|\n",
            "| 238960|          true|538.8|  80787|\n",
            "|    730|         false|157.5|  57879|\n",
            "| 255710|          true| 18.7| 321815|\n",
            "| 289070|          true|397.5| 412440|\n",
            "+-------+--------------+-----+-------+\n",
            "only showing top 10 rows\n",
            "\n"
          ]
        }
      ]
    },
    {
      "cell_type": "code",
      "source": [
        "# Check null values in Data\n",
        "null_games = games.select([count(when(col(i).isNull(),i)).alias(i) for i in games.columns])\n",
        "null_games.show()"
      ],
      "metadata": {
        "colab": {
          "base_uri": "https://localhost:8080/"
        },
        "id": "S_jW0K_nGSXT",
        "outputId": "adac7d54-84ff-4662-e9dd-196229ef345f"
      },
      "execution_count": 25,
      "outputs": [
        {
          "output_type": "stream",
          "name": "stdout",
          "text": [
            "+------+-----+---+---+-----+------+--------------+------------+-----------+\n",
            "|app_id|title|win|mac|linux|rating|positive_ratio|user_reviews|price_final|\n",
            "+------+-----+---+---+-----+------+--------------+------------+-----------+\n",
            "|     0|    0|  0|  0|    0|     0|             0|           0|          0|\n",
            "+------+-----+---+---+-----+------+--------------+------------+-----------+\n",
            "\n"
          ]
        }
      ]
    },
    {
      "cell_type": "code",
      "source": [
        "null_recom = recom.select([count(when(col(i).isNull(),i)).alias(i) for i in recom.columns])\n",
        "null_recom.show()"
      ],
      "metadata": {
        "colab": {
          "base_uri": "https://localhost:8080/"
        },
        "id": "WwGN1zJ4GnpA",
        "outputId": "7be230d9-28b5-407e-ec5b-1f45affe51e4"
      },
      "execution_count": 26,
      "outputs": [
        {
          "output_type": "stream",
          "name": "stdout",
          "text": [
            "+------+--------------+-----+-------+\n",
            "|app_id|is_recommended|hours|user_id|\n",
            "+------+--------------+-----+-------+\n",
            "|     0|             0|    0|      0|\n",
            "+------+--------------+-----+-------+\n",
            "\n"
          ]
        }
      ]
    },
    {
      "cell_type": "code",
      "source": [
        "# Demo inputs\n",
        "# Grand Theft Auto V\n",
        "# Dying Light 2 Stay Human\n",
        "# Cyberpunk 2077\n",
        "# Red Dead Redemption 2\n",
        "# Jurassic World Evolution 2\n",
        "# FINAL FANTASY XIV Online\n",
        "# Farming Simulator 22"
      ],
      "metadata": {
        "id": "o4q2b3hfBJmI"
      },
      "execution_count": 27,
      "outputs": []
    },
    {
      "cell_type": "code",
      "source": [
        "# Taking a input game\n",
        "input_game_name = input(\"Enter the name of the game: \")\n",
        "target_app_id = games.filter(games.title == input_game_name).collect()\n",
        "target_app_id = target_app_id[0][\"app_id\"]\n",
        "target_app_id"
      ],
      "metadata": {
        "colab": {
          "base_uri": "https://localhost:8080/"
        },
        "id": "icXwg4X3BJjQ",
        "outputId": "d2ac9b7c-784e-4fcd-db09-a15b0092b037"
      },
      "execution_count": 28,
      "outputs": [
        {
          "name": "stdout",
          "output_type": "stream",
          "text": [
            "Enter the name of the game: Rust\n"
          ]
        },
        {
          "output_type": "execute_result",
          "data": {
            "text/plain": [
              "252490"
            ]
          },
          "metadata": {},
          "execution_count": 28
        }
      ]
    },
    {
      "cell_type": "code",
      "source": [
        "filtered_games = games.filter(games.app_id == target_app_id)\n",
        "\n",
        "filtered_games.show()"
      ],
      "metadata": {
        "id": "E49vbLL8BJgm",
        "colab": {
          "base_uri": "https://localhost:8080/"
        },
        "outputId": "cb02e094-7bc3-4f07-cc13-a9e55dd10c15"
      },
      "execution_count": 29,
      "outputs": [
        {
          "output_type": "stream",
          "name": "stdout",
          "text": [
            "+------+-----+----+----+-----+-------------+--------------+------------+-----------+\n",
            "|app_id|title| win| mac|linux|       rating|positive_ratio|user_reviews|price_final|\n",
            "+------+-----+----+----+-----+-------------+--------------+------------+-----------+\n",
            "|252490| Rust|true|true|false|Very Positive|            87|      761516|      39.99|\n",
            "+------+-----+----+----+-----+-------------+--------------+------------+-----------+\n",
            "\n"
          ]
        }
      ]
    },
    {
      "cell_type": "code",
      "source": [
        "# Checking how many users have played this game(app_id) from recom table\n",
        "target_user_ids = recom.filter(recom.app_id == target_app_id)\n",
        "target_user_ids.show(5)"
      ],
      "metadata": {
        "id": "GZXvUqfvBJdp",
        "colab": {
          "base_uri": "https://localhost:8080/"
        },
        "outputId": "64c4bb7c-8e04-4969-b4ac-d0429b7e9cd9"
      },
      "execution_count": 30,
      "outputs": [
        {
          "output_type": "stream",
          "name": "stdout",
          "text": [
            "+------+--------------+-----+--------+\n",
            "|app_id|is_recommended|hours| user_id|\n",
            "+------+--------------+-----+--------+\n",
            "|252490|          true|  0.4| 1046893|\n",
            "|252490|         false| 53.4| 1315766|\n",
            "|252490|          true| 75.8| 4239702|\n",
            "|252490|          true|698.9| 4538123|\n",
            "|252490|          true|151.8|11963619|\n",
            "+------+--------------+-----+--------+\n",
            "only showing top 5 rows\n",
            "\n"
          ]
        }
      ]
    },
    {
      "cell_type": "code",
      "source": [
        "# Sorting DataFrame(usr_id) by hours\n",
        "# To get the players who played the game more. Because they liked the game more so they can give more accurate recommendation\n",
        "# Selecting top 1000 players\n",
        "usr_id = target_user_ids.orderBy(\"hours\", ascending=False).limit(1000)\n",
        "usr_id.show(5)"
      ],
      "metadata": {
        "id": "BiYEvuUmBJa6",
        "colab": {
          "base_uri": "https://localhost:8080/"
        },
        "outputId": "7b858aea-3f1a-446b-daf9-73964e7f7af8"
      },
      "execution_count": 31,
      "outputs": [
        {
          "output_type": "stream",
          "name": "stdout",
          "text": [
            "+------+--------------+-----+-------+\n",
            "|app_id|is_recommended|hours|user_id|\n",
            "+------+--------------+-----+-------+\n",
            "|252490|          true|999.2|4900395|\n",
            "|252490|          true|999.1|2634389|\n",
            "|252490|         false|999.0|7567570|\n",
            "|252490|          true|998.4|8953860|\n",
            "|252490|          true|998.2|1002205|\n",
            "+------+--------------+-----+-------+\n",
            "only showing top 5 rows\n",
            "\n"
          ]
        }
      ]
    },
    {
      "cell_type": "code",
      "source": [
        "# Extracting user_id of these users\n",
        "users = usr_id.select(\"user_id\").rdd.flatMap(lambda x: x).collect()"
      ],
      "metadata": {
        "id": "YlMLjqBsBJYO"
      },
      "execution_count": 32,
      "outputs": []
    },
    {
      "cell_type": "code",
      "source": [
        "# Checking if recom['user_id'] isin users Series\n",
        "# Filter recommendations based on selected users\n",
        "final_df = recom.filter(recom.user_id.isin(users))\n",
        "final_df.show(5)"
      ],
      "metadata": {
        "id": "IfjqZ-qHBJVe",
        "colab": {
          "base_uri": "https://localhost:8080/"
        },
        "outputId": "c41b5b99-20c0-4a0b-d808-d7f439cce40a"
      },
      "execution_count": 33,
      "outputs": [
        {
          "output_type": "stream",
          "name": "stdout",
          "text": [
            "+------+--------------+-----+--------+\n",
            "|app_id|is_recommended|hours| user_id|\n",
            "+------+--------------+-----+--------+\n",
            "|252490|          true|698.9| 4538123|\n",
            "|252490|          true|780.3|12424417|\n",
            "|252490|          true|622.0|12555877|\n",
            "|252490|          true|678.3| 2357157|\n",
            "|252490|          true|766.0|10612043|\n",
            "+------+--------------+-----+--------+\n",
            "only showing top 5 rows\n",
            "\n"
          ]
        }
      ]
    },
    {
      "cell_type": "code",
      "source": [
        "# Counting how many users have played these games\n",
        "# Checing how many users have played a game & taking the top 7 games\n",
        "recom_games = final_df.groupBy(\"app_id\").count().orderBy(\"count\", ascending=False).limit(7).collect()\n",
        "recom_games"
      ],
      "metadata": {
        "id": "_XNMD-_VBJNT",
        "colab": {
          "base_uri": "https://localhost:8080/"
        },
        "outputId": "0b135d00-4445-4c2e-e81c-064020c2b6f9"
      },
      "execution_count": 34,
      "outputs": [
        {
          "output_type": "execute_result",
          "data": {
            "text/plain": [
              "[Row(app_id=252490, count=1000),\n",
              " Row(app_id=386360, count=1),\n",
              " Row(app_id=284160, count=1),\n",
              " Row(app_id=1248130, count=1),\n",
              " Row(app_id=1938090, count=1),\n",
              " Row(app_id=218620, count=1),\n",
              " Row(app_id=1091500, count=1)]"
            ]
          },
          "metadata": {},
          "execution_count": 34
        }
      ]
    },
    {
      "cell_type": "code",
      "source": [
        "# Extract count from recom_games\n",
        "count_played = [row[\"count\"] for row in recom_games[1:]]\n",
        "count_played"
      ],
      "metadata": {
        "colab": {
          "base_uri": "https://localhost:8080/"
        },
        "id": "48iRQnhomeF_",
        "outputId": "bd28ba32-21d7-46c6-d76f-887c09d30f0a"
      },
      "execution_count": 35,
      "outputs": [
        {
          "output_type": "execute_result",
          "data": {
            "text/plain": [
              "[1, 1, 1, 1, 1, 1]"
            ]
          },
          "metadata": {},
          "execution_count": 35
        }
      ]
    },
    {
      "cell_type": "code",
      "source": [
        "# Extract app_id from recom_games\n",
        "apps = [row[\"app_id\"] for row in recom_games[1:]]\n",
        "apps"
      ],
      "metadata": {
        "id": "QGkEKtWLBJJ1",
        "colab": {
          "base_uri": "https://localhost:8080/"
        },
        "outputId": "a44b9874-8479-4a64-be27-7e38e4767118"
      },
      "execution_count": 36,
      "outputs": [
        {
          "output_type": "execute_result",
          "data": {
            "text/plain": [
              "[386360, 284160, 1248130, 1938090, 218620, 1091500]"
            ]
          },
          "metadata": {},
          "execution_count": 36
        }
      ]
    },
    {
      "cell_type": "code",
      "source": [
        "# Making recom_games list into a DataFrame with columns as \"app_id\" & \"count_played\"\n",
        "apps_count = spark.createDataFrame(recom_games, [\"app_id\", \"count_played\"])\n",
        "apps_count.show()"
      ],
      "metadata": {
        "colab": {
          "base_uri": "https://localhost:8080/"
        },
        "id": "-sE-GN0dwKqs",
        "outputId": "80df0cbe-ba5b-4a84-8c6a-961ecf6ef70e"
      },
      "execution_count": 37,
      "outputs": [
        {
          "output_type": "stream",
          "name": "stdout",
          "text": [
            "+-------+------------+\n",
            "| app_id|count_played|\n",
            "+-------+------------+\n",
            "| 252490|        1000|\n",
            "| 386360|           1|\n",
            "| 284160|           1|\n",
            "|1248130|           1|\n",
            "|1938090|           1|\n",
            "| 218620|           1|\n",
            "|1091500|           1|\n",
            "+-------+------------+\n",
            "\n"
          ]
        }
      ]
    },
    {
      "cell_type": "code",
      "source": [
        "# Getting games name from games table by comparing app_id from apps list\n",
        "output = games.filter(games.app_id.isin(apps))\n",
        "output.show()"
      ],
      "metadata": {
        "id": "ei-vGmgpDME-",
        "colab": {
          "base_uri": "https://localhost:8080/"
        },
        "outputId": "bbf03983-b742-47fe-be22-30b33583e3a7"
      },
      "execution_count": 38,
      "outputs": [
        {
          "output_type": "stream",
          "name": "stdout",
          "text": [
            "+-------+--------------------+----+-----+-----+--------------------+--------------+------------+-----------+\n",
            "| app_id|               title| win|  mac|linux|              rating|positive_ratio|user_reviews|price_final|\n",
            "+-------+--------------------+----+-----+-----+--------------------+--------------+------------+-----------+\n",
            "| 218620|            PAYDAY 2|true|false| true|       Very Positive|            89|      405728|       9.99|\n",
            "| 284160|        BeamNG.drive|true|false|false|Overwhelmingly Po...|            97|      165241|      24.99|\n",
            "| 386360|              SMITE®|true|false|false|     Mostly Positive|            79|      109933|        0.0|\n",
            "|1091500|      Cyberpunk 2077|true|false|false|     Mostly Positive|            79|      541364|      59.99|\n",
            "|1248130|Farming Simulator 22|true| true|false|       Very Positive|            91|       35359|      39.99|\n",
            "|1938090|Call of Duty®: Mo...|true|false|false|               Mixed|            60|      389119|      69.99|\n",
            "+-------+--------------------+----+-----+-----+--------------------+--------------+------------+-----------+\n",
            "\n"
          ]
        }
      ]
    },
    {
      "cell_type": "code",
      "source": [
        "# Joining two Dataframe on app_id to get count_played for each game\n",
        "output = output.join(apps_count, on=\"app_id\", how=\"inner\")\n",
        "\n",
        "output.show()"
      ],
      "metadata": {
        "colab": {
          "base_uri": "https://localhost:8080/"
        },
        "id": "Z2on97ftuDCB",
        "outputId": "5f601f52-27df-45ce-b1fd-7cb21045dd95"
      },
      "execution_count": 39,
      "outputs": [
        {
          "output_type": "stream",
          "name": "stdout",
          "text": [
            "+-------+--------------------+----+-----+-----+--------------------+--------------+------------+-----------+------------+\n",
            "| app_id|               title| win|  mac|linux|              rating|positive_ratio|user_reviews|price_final|count_played|\n",
            "+-------+--------------------+----+-----+-----+--------------------+--------------+------------+-----------+------------+\n",
            "| 386360|              SMITE®|true|false|false|     Mostly Positive|            79|      109933|        0.0|           1|\n",
            "| 284160|        BeamNG.drive|true|false|false|Overwhelmingly Po...|            97|      165241|      24.99|           1|\n",
            "|1248130|Farming Simulator 22|true| true|false|       Very Positive|            91|       35359|      39.99|           1|\n",
            "|1938090|Call of Duty®: Mo...|true|false|false|               Mixed|            60|      389119|      69.99|           1|\n",
            "| 218620|            PAYDAY 2|true|false| true|       Very Positive|            89|      405728|       9.99|           1|\n",
            "|1091500|      Cyberpunk 2077|true|false|false|     Mostly Positive|            79|      541364|      59.99|           1|\n",
            "+-------+--------------------+----+-----+-----+--------------------+--------------+------------+-----------+------------+\n",
            "\n"
          ]
        }
      ]
    },
    {
      "cell_type": "code",
      "source": [
        "# Filters\n",
        "cond = input(\"Do you want to add filters(Os,Price,None): \")\n",
        "\n",
        "if cond.lower() == 'os':\n",
        "    os = input(\"Enter preferred Os system(windows/mac/linux/any): \").lower()\n",
        "    if(os=='windows'):\n",
        "      os = 'win'\n",
        "\n",
        "    if os in ['win', 'mac', 'linux', 'any']:\n",
        "        if os == 'any':\n",
        "            output.show(truncate=False)\n",
        "        else:\n",
        "            os_col = os if os != 'any' else 'win'\n",
        "            filtered_titles = output.filter(output[os_col] == True)\n",
        "            if filtered_titles.count() == 0:\n",
        "                print(\"No Games found\")\n",
        "            else:\n",
        "                filtered_titles.show(truncate=False)\n",
        "    else:\n",
        "        print(\"Please enter a valid OS option.\")\n",
        "\n",
        "elif cond.lower() == 'price':\n",
        "    price = float(input(\"Enter price range: \"))\n",
        "    filtered_titles = output.filter(output.price_final <= price)\n",
        "    filtered_titles.show(truncate=False)\n",
        "\n",
        "elif cond.lower() == 'none':\n",
        "    output.show(truncate=False)\n",
        "\n",
        "else:\n",
        "    print(\"Please enter valid filter options.\")"
      ],
      "metadata": {
        "id": "eut7lxopDMBu",
        "colab": {
          "base_uri": "https://localhost:8080/"
        },
        "outputId": "f03f58e8-4d53-4ef4-f2a4-d331aeaea62c"
      },
      "execution_count": 40,
      "outputs": [
        {
          "output_type": "stream",
          "name": "stdout",
          "text": [
            "Do you want to add filters(Os,Price,None): none\n",
            "+-------+---------------------------------+----+-----+-----+-----------------------+--------------+------------+-----------+------------+\n",
            "|app_id |title                            |win |mac  |linux|rating                 |positive_ratio|user_reviews|price_final|count_played|\n",
            "+-------+---------------------------------+----+-----+-----+-----------------------+--------------+------------+-----------+------------+\n",
            "|386360 |SMITE®                           |true|false|false|Mostly Positive        |79            |109933      |0.0        |1           |\n",
            "|284160 |BeamNG.drive                     |true|false|false|Overwhelmingly Positive|97            |165241      |24.99      |1           |\n",
            "|1248130|Farming Simulator 22             |true|true |false|Very Positive          |91            |35359       |39.99      |1           |\n",
            "|1938090|Call of Duty®: Modern Warfare® II|true|false|false|Mixed                  |60            |389119      |69.99      |1           |\n",
            "|218620 |PAYDAY 2                         |true|false|true |Very Positive          |89            |405728      |9.99       |1           |\n",
            "|1091500|Cyberpunk 2077                   |true|false|false|Mostly Positive        |79            |541364      |59.99      |1           |\n",
            "+-------+---------------------------------+----+-----+-----+-----------------------+--------------+------------+-----------+------------+\n",
            "\n"
          ]
        }
      ]
    },
    {
      "cell_type": "code",
      "source": [
        "#spark.stop()"
      ],
      "metadata": {
        "id": "EqFxxTw3DMAN"
      },
      "execution_count": null,
      "outputs": []
    },
    {
      "cell_type": "code",
      "source": [],
      "metadata": {
        "id": "wirhdugWDL9n"
      },
      "execution_count": null,
      "outputs": []
    },
    {
      "cell_type": "code",
      "source": [],
      "metadata": {
        "id": "CePXKJtEDL6M"
      },
      "execution_count": null,
      "outputs": []
    }
  ]
}