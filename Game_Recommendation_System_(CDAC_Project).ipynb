{
  "nbformat": 4,
  "nbformat_minor": 0,
  "metadata": {
    "colab": {
      "provenance": []
    },
    "kernelspec": {
      "name": "python3",
      "display_name": "Python 3"
    },
    "language_info": {
      "name": "python"
    }
  },
  "cells": [
    {
      "cell_type": "code",
      "execution_count": 1,
      "metadata": {
        "colab": {
          "base_uri": "https://localhost:8080/"
        },
        "id": "O3S_43RzAfIj",
        "outputId": "e373e842-fda0-4fa1-b1b1-15a3132e814b"
      },
      "outputs": [
        {
          "output_type": "stream",
          "name": "stdout",
          "text": [
            "Collecting pyspark\n",
            "  Downloading pyspark-3.4.1.tar.gz (310.8 MB)\n",
            "\u001b[2K     \u001b[90m━━━━━━━━━━━━━━━━━━━━━━━━━━━━━━━━━━━━━━━\u001b[0m \u001b[32m310.8/310.8 MB\u001b[0m \u001b[31m4.2 MB/s\u001b[0m eta \u001b[36m0:00:00\u001b[0m\n",
            "\u001b[?25h  Preparing metadata (setup.py) ... \u001b[?25l\u001b[?25hdone\n",
            "Requirement already satisfied: py4j==0.10.9.7 in /usr/local/lib/python3.10/dist-packages (from pyspark) (0.10.9.7)\n",
            "Building wheels for collected packages: pyspark\n",
            "  Building wheel for pyspark (setup.py) ... \u001b[?25l\u001b[?25hdone\n",
            "  Created wheel for pyspark: filename=pyspark-3.4.1-py2.py3-none-any.whl size=311285387 sha256=23bc9db4c4337e68700df33a92ea3a587fcd8340d5e97a9dcebd6e9bf77782d8\n",
            "  Stored in directory: /root/.cache/pip/wheels/0d/77/a3/ff2f74cc9ab41f8f594dabf0579c2a7c6de920d584206e0834\n",
            "Successfully built pyspark\n",
            "Installing collected packages: pyspark\n",
            "Successfully installed pyspark-3.4.1\n"
          ]
        }
      ],
      "source": [
        "pip install pyspark"
      ]
    },
    {
      "cell_type": "code",
      "source": [
        "from pyspark.sql import SparkSession\n",
        "from pyspark.sql.functions import col, count, when\n",
        "import matplotlib.pyplot as plt\n",
        "import seaborn as sns"
      ],
      "metadata": {
        "id": "WZrdWslEAprw"
      },
      "execution_count": 53,
      "outputs": []
    },
    {
      "cell_type": "code",
      "source": [
        "spark = SparkSession.builder.appName(\"Game_Recommendation_System\").getOrCreate()"
      ],
      "metadata": {
        "id": "syU7IQ8bFoWB"
      },
      "execution_count": 54,
      "outputs": []
    },
    {
      "cell_type": "code",
      "source": [
        "# Reading Data\n",
        "recom = spark.read.csv(\"/content/recommendations.csv\", header=True, inferSchema=True)\n",
        "games = spark.read.csv(\"/content/games.csv\", header=True, inferSchema=True)"
      ],
      "metadata": {
        "id": "2WYPxS-aAuJR"
      },
      "execution_count": 55,
      "outputs": []
    },
    {
      "cell_type": "code",
      "source": [
        "games.show(10)"
      ],
      "metadata": {
        "colab": {
          "base_uri": "https://localhost:8080/"
        },
        "id": "anc-FYCPA52J",
        "outputId": "056fad56-5950-457e-ee21-406d0d74ad66"
      },
      "execution_count": 56,
      "outputs": [
        {
          "output_type": "stream",
          "name": "stdout",
          "text": [
            "+------+--------------------+------------+----+-----+-----+---------------+--------------+------------+-----------+--------------+--------+----------+\n",
            "|app_id|               title|date_release| win|  mac|linux|         rating|positive_ratio|user_reviews|price_final|price_original|discount|steam_deck|\n",
            "+------+--------------------+------------+----+-----+-----+---------------+--------------+------------+-----------+--------------+--------+----------+\n",
            "| 13500|Prince of Persia:...|  2008-11-21|true|false|false|  Very Positive|            84|        2199|       9.99|          9.99|     0.0|      true|\n",
            "| 22364|BRINK: Agents of ...|  2011-08-03|true|false|false|       Positive|            85|          21|       2.99|          2.99|     0.0|      true|\n",
            "|113020|Monaco: What's Yo...|  2013-04-24|true| true| true|  Very Positive|            92|        3722|      14.99|         14.99|     0.0|      true|\n",
            "|226560|  Escape Dead Island|  2014-11-18|true|false|false|          Mixed|            61|         873|      14.99|         14.99|     0.0|      true|\n",
            "|249050|Dungeon of the EN...|  2014-10-27|true| true|false|  Very Positive|            88|        8784|      11.99|         11.99|     0.0|      true|\n",
            "|250180|        METAL SLUG 3|  2015-09-14|true|false|false|  Very Positive|            90|        5579|       7.99|          7.99|     0.0|      true|\n",
            "|253980|             Enclave|  2013-10-04|true| true| true|Mostly Positive|            75|        1608|       4.99|          4.99|     0.0|      true|\n",
            "|271850|Men of War: Assau...|  2014-05-16|true|false|false|          Mixed|            61|         199|       6.99|          6.99|     0.0|      true|\n",
            "|282900|Hyperdimension Ne...|  2015-01-29|true|false|false|  Very Positive|            94|        9686|      14.99|         14.99|     0.0|      true|\n",
            "| 19810|The Sum of All Fears|  2008-10-10|true|false|false|Mostly Positive|            75|          33|       9.99|          9.99|     0.0|      true|\n",
            "+------+--------------------+------------+----+-----+-----+---------------+--------------+------------+-----------+--------------+--------+----------+\n",
            "only showing top 10 rows\n",
            "\n"
          ]
        }
      ]
    },
    {
      "cell_type": "code",
      "source": [
        "recom.show(10)"
      ],
      "metadata": {
        "colab": {
          "base_uri": "https://localhost:8080/"
        },
        "id": "U1oT2IKwA5yq",
        "outputId": "2618b646-5c64-4bd7-9208-d4edfff74aae"
      },
      "execution_count": 57,
      "outputs": [
        {
          "output_type": "stream",
          "name": "stdout",
          "text": [
            "+-------+-------+-----+----------+--------------+-----+-------+---------+\n",
            "| app_id|helpful|funny|      date|is_recommended|hours|user_id|review_id|\n",
            "+-------+-------+-----+----------+--------------+-----+-------+---------+\n",
            "| 975370|      0|    0|2022-12-12|          true| 36.3|  47199|        0|\n",
            "| 304390|      4|    0|2017-02-17|         false| 11.5|   2376|        1|\n",
            "|1085660|      2|    0|2019-11-17|          true|336.5| 230757|        2|\n",
            "| 703080|      0|    0|2022-09-23|          true| 27.4| 235736|        3|\n",
            "| 526870|      0|    0|2021-01-10|          true|  7.9|  21721|        4|\n",
            "| 306130|      0|    0|2021-10-10|          true|  8.6|  41543|        5|\n",
            "| 238960|      0|    0|2017-11-25|          true|538.8|  80787|        6|\n",
            "|    730|      0|    0|2021-11-30|         false|157.5|  57879|        7|\n",
            "| 255710|      0|    0|2021-05-21|          true| 18.7| 321815|        8|\n",
            "| 289070|      0|    0|2020-05-26|          true|397.5| 412440|        9|\n",
            "+-------+-------+-----+----------+--------------+-----+-------+---------+\n",
            "only showing top 10 rows\n",
            "\n"
          ]
        }
      ]
    },
    {
      "cell_type": "code",
      "source": [
        "games.printSchema()"
      ],
      "metadata": {
        "colab": {
          "base_uri": "https://localhost:8080/"
        },
        "id": "zOKIvLAUBVt_",
        "outputId": "65455554-f2d0-4645-cb47-719b7ae7e64a"
      },
      "execution_count": 58,
      "outputs": [
        {
          "output_type": "stream",
          "name": "stdout",
          "text": [
            "root\n",
            " |-- app_id: integer (nullable = true)\n",
            " |-- title: string (nullable = true)\n",
            " |-- date_release: date (nullable = true)\n",
            " |-- win: boolean (nullable = true)\n",
            " |-- mac: boolean (nullable = true)\n",
            " |-- linux: boolean (nullable = true)\n",
            " |-- rating: string (nullable = true)\n",
            " |-- positive_ratio: integer (nullable = true)\n",
            " |-- user_reviews: integer (nullable = true)\n",
            " |-- price_final: double (nullable = true)\n",
            " |-- price_original: double (nullable = true)\n",
            " |-- discount: double (nullable = true)\n",
            " |-- steam_deck: boolean (nullable = true)\n",
            "\n"
          ]
        }
      ]
    },
    {
      "cell_type": "code",
      "source": [
        "recom.printSchema()"
      ],
      "metadata": {
        "colab": {
          "base_uri": "https://localhost:8080/"
        },
        "id": "ApsYk0icBVny",
        "outputId": "fcedf1d7-260c-4b3f-84d0-deeb1b53a8eb"
      },
      "execution_count": 59,
      "outputs": [
        {
          "output_type": "stream",
          "name": "stdout",
          "text": [
            "root\n",
            " |-- app_id: integer (nullable = true)\n",
            " |-- helpful: integer (nullable = true)\n",
            " |-- funny: integer (nullable = true)\n",
            " |-- date: date (nullable = true)\n",
            " |-- is_recommended: boolean (nullable = true)\n",
            " |-- hours: double (nullable = true)\n",
            " |-- user_id: integer (nullable = true)\n",
            " |-- review_id: integer (nullable = true)\n",
            "\n"
          ]
        }
      ]
    },
    {
      "cell_type": "code",
      "source": [
        "# Deleting unnecessary columns\n",
        "dropg = ['date_release', 'discount', 'is_recommended', 'steam_deck', 'price_original']\n",
        "dropr = ['helpful', 'funny', 'date', 'review_id']\n",
        "\n",
        "games = games.drop(*dropg)\n",
        "recom = recom.drop(*dropr)"
      ],
      "metadata": {
        "id": "MGkH8pJoA5wN"
      },
      "execution_count": 60,
      "outputs": []
    },
    {
      "cell_type": "code",
      "source": [
        "games.show(10)"
      ],
      "metadata": {
        "colab": {
          "base_uri": "https://localhost:8080/"
        },
        "id": "UWc5hoeaBJwo",
        "outputId": "b273952b-1101-45fb-8ed2-bfd859c6ca31"
      },
      "execution_count": 61,
      "outputs": [
        {
          "output_type": "stream",
          "name": "stdout",
          "text": [
            "+------+--------------------+----+-----+-----+---------------+--------------+------------+-----------+\n",
            "|app_id|               title| win|  mac|linux|         rating|positive_ratio|user_reviews|price_final|\n",
            "+------+--------------------+----+-----+-----+---------------+--------------+------------+-----------+\n",
            "| 13500|Prince of Persia:...|true|false|false|  Very Positive|            84|        2199|       9.99|\n",
            "| 22364|BRINK: Agents of ...|true|false|false|       Positive|            85|          21|       2.99|\n",
            "|113020|Monaco: What's Yo...|true| true| true|  Very Positive|            92|        3722|      14.99|\n",
            "|226560|  Escape Dead Island|true|false|false|          Mixed|            61|         873|      14.99|\n",
            "|249050|Dungeon of the EN...|true| true|false|  Very Positive|            88|        8784|      11.99|\n",
            "|250180|        METAL SLUG 3|true|false|false|  Very Positive|            90|        5579|       7.99|\n",
            "|253980|             Enclave|true| true| true|Mostly Positive|            75|        1608|       4.99|\n",
            "|271850|Men of War: Assau...|true|false|false|          Mixed|            61|         199|       6.99|\n",
            "|282900|Hyperdimension Ne...|true|false|false|  Very Positive|            94|        9686|      14.99|\n",
            "| 19810|The Sum of All Fears|true|false|false|Mostly Positive|            75|          33|       9.99|\n",
            "+------+--------------------+----+-----+-----+---------------+--------------+------------+-----------+\n",
            "only showing top 10 rows\n",
            "\n"
          ]
        }
      ]
    },
    {
      "cell_type": "code",
      "source": [
        "recom.show(10)"
      ],
      "metadata": {
        "colab": {
          "base_uri": "https://localhost:8080/"
        },
        "id": "GfJAPWatBJud",
        "outputId": "6c5895fb-9ec4-4431-a57f-5dcf7d024cb5"
      },
      "execution_count": 62,
      "outputs": [
        {
          "output_type": "stream",
          "name": "stdout",
          "text": [
            "+-------+--------------+-----+-------+\n",
            "| app_id|is_recommended|hours|user_id|\n",
            "+-------+--------------+-----+-------+\n",
            "| 975370|          true| 36.3|  47199|\n",
            "| 304390|         false| 11.5|   2376|\n",
            "|1085660|          true|336.5| 230757|\n",
            "| 703080|          true| 27.4| 235736|\n",
            "| 526870|          true|  7.9|  21721|\n",
            "| 306130|          true|  8.6|  41543|\n",
            "| 238960|          true|538.8|  80787|\n",
            "|    730|         false|157.5|  57879|\n",
            "| 255710|          true| 18.7| 321815|\n",
            "| 289070|          true|397.5| 412440|\n",
            "+-------+--------------+-----+-------+\n",
            "only showing top 10 rows\n",
            "\n"
          ]
        }
      ]
    },
    {
      "cell_type": "code",
      "source": [
        "# Check null values in Data\n",
        "null_games = games.select([count(when(col(i).isNull(),i)).alias(i) for i in games.columns])\n",
        "null_games.show()"
      ],
      "metadata": {
        "colab": {
          "base_uri": "https://localhost:8080/"
        },
        "id": "S_jW0K_nGSXT",
        "outputId": "3d2fb887-cab8-456e-e356-7ed666951284"
      },
      "execution_count": 63,
      "outputs": [
        {
          "output_type": "stream",
          "name": "stdout",
          "text": [
            "+------+-----+---+---+-----+------+--------------+------------+-----------+\n",
            "|app_id|title|win|mac|linux|rating|positive_ratio|user_reviews|price_final|\n",
            "+------+-----+---+---+-----+------+--------------+------------+-----------+\n",
            "|     0|    0|  0|  0|    0|     0|             0|           0|          0|\n",
            "+------+-----+---+---+-----+------+--------------+------------+-----------+\n",
            "\n"
          ]
        }
      ]
    },
    {
      "cell_type": "code",
      "source": [
        "null_recom = recom.select([count(when(col(i).isNull(),i)).alias(i) for i in recom.columns])\n",
        "null_recom.show()"
      ],
      "metadata": {
        "colab": {
          "base_uri": "https://localhost:8080/"
        },
        "id": "WwGN1zJ4GnpA",
        "outputId": "7e870b1e-d38e-4584-ce13-42e3ba2f012c"
      },
      "execution_count": 64,
      "outputs": [
        {
          "output_type": "stream",
          "name": "stdout",
          "text": [
            "+------+--------------+-----+-------+\n",
            "|app_id|is_recommended|hours|user_id|\n",
            "+------+--------------+-----+-------+\n",
            "|     0|             0|    1|      1|\n",
            "+------+--------------+-----+-------+\n",
            "\n"
          ]
        }
      ]
    },
    {
      "cell_type": "code",
      "source": [
        "# Demo inputs\n",
        "# Grand Theft Auto V\n",
        "# Dying Light 2 Stay Human\n",
        "# Cyberpunk 2077\n",
        "# Red Dead Redemption 2\n",
        "# Jurassic World Evolution 2\n",
        "# FINAL FANTASY XIV Online\n",
        "# Farming Simulator 22"
      ],
      "metadata": {
        "id": "o4q2b3hfBJmI"
      },
      "execution_count": 65,
      "outputs": []
    },
    {
      "cell_type": "code",
      "source": [
        "# Taking a input game\n",
        "input_game_name = input(\"Enter the name of the game: \")\n",
        "target_app_id = games.filter(games.title == input_game_name).collect()\n",
        "target_app_id = target_app_id[0][\"app_id\"]\n",
        "target_app_id"
      ],
      "metadata": {
        "colab": {
          "base_uri": "https://localhost:8080/"
        },
        "id": "icXwg4X3BJjQ",
        "outputId": "cd9e1899-8bd2-4d23-ef39-ddc5ee80760c"
      },
      "execution_count": 66,
      "outputs": [
        {
          "name": "stdout",
          "output_type": "stream",
          "text": [
            "Enter the name of the game: Cyberpunk 2077\n"
          ]
        },
        {
          "output_type": "execute_result",
          "data": {
            "text/plain": [
              "1091500"
            ]
          },
          "metadata": {},
          "execution_count": 66
        }
      ]
    },
    {
      "cell_type": "code",
      "source": [
        "filtered_games = games.filter(games.app_id == target_app_id)\n",
        "\n",
        "filtered_games.show()"
      ],
      "metadata": {
        "id": "E49vbLL8BJgm",
        "colab": {
          "base_uri": "https://localhost:8080/"
        },
        "outputId": "80ee3b04-f282-45ae-d0f0-e89ca7e1a7e6"
      },
      "execution_count": 67,
      "outputs": [
        {
          "output_type": "stream",
          "name": "stdout",
          "text": [
            "+-------+--------------+----+-----+-----+---------------+--------------+------------+-----------+\n",
            "| app_id|         title| win|  mac|linux|         rating|positive_ratio|user_reviews|price_final|\n",
            "+-------+--------------+----+-----+-----+---------------+--------------+------------+-----------+\n",
            "|1091500|Cyberpunk 2077|true|false|false|Mostly Positive|            79|      541364|      59.99|\n",
            "+-------+--------------+----+-----+-----+---------------+--------------+------------+-----------+\n",
            "\n"
          ]
        }
      ]
    },
    {
      "cell_type": "code",
      "source": [
        "# Checking how many users have played this game(app_id) from recom table\n",
        "target_user_ids = recom.filter(recom.app_id == target_app_id)\n",
        "target_user_ids.show(5)"
      ],
      "metadata": {
        "id": "GZXvUqfvBJdp",
        "colab": {
          "base_uri": "https://localhost:8080/"
        },
        "outputId": "666fb513-c9ac-4fc4-884f-1c7e7f5d6e0b"
      },
      "execution_count": 68,
      "outputs": [
        {
          "output_type": "stream",
          "name": "stdout",
          "text": [
            "+-------+--------------+-----+--------+\n",
            "| app_id|is_recommended|hours| user_id|\n",
            "+-------+--------------+-----+--------+\n",
            "|1091500|          true|108.8|  430698|\n",
            "|1091500|          true| 18.1| 3984740|\n",
            "|1091500|         false| 61.4| 6876593|\n",
            "|1091500|          true| 28.6| 8132987|\n",
            "|1091500|          true| 77.3|12235370|\n",
            "+-------+--------------+-----+--------+\n",
            "only showing top 5 rows\n",
            "\n"
          ]
        }
      ]
    },
    {
      "cell_type": "code",
      "source": [
        "# Sorting DataFrame(usr_id) by hours\n",
        "# To get the players who played the game more. Because they liked the game more so they can give more accurate recommendation\n",
        "# Selecting top 1000 players\n",
        "usr_id = target_user_ids.orderBy(\"hours\", ascending=False).limit(1000)\n",
        "usr_id.show(5)"
      ],
      "metadata": {
        "id": "BiYEvuUmBJa6",
        "colab": {
          "base_uri": "https://localhost:8080/"
        },
        "outputId": "e7f15a91-3c1e-4ef5-969c-0478514a1010"
      },
      "execution_count": 69,
      "outputs": [
        {
          "output_type": "stream",
          "name": "stdout",
          "text": [
            "+-------+--------------+-----+--------+\n",
            "| app_id|is_recommended|hours| user_id|\n",
            "+-------+--------------+-----+--------+\n",
            "|1091500|          true|994.0|  169272|\n",
            "|1091500|          true|987.9| 8202113|\n",
            "|1091500|          true|976.0|10682937|\n",
            "|1091500|         false|907.4| 7463264|\n",
            "|1091500|          true|898.5|  765635|\n",
            "+-------+--------------+-----+--------+\n",
            "only showing top 5 rows\n",
            "\n"
          ]
        }
      ]
    },
    {
      "cell_type": "code",
      "source": [
        "# Extracting user_id of these users\n",
        "users = usr_id.select(\"user_id\").rdd.flatMap(lambda x: x).collect()"
      ],
      "metadata": {
        "id": "YlMLjqBsBJYO"
      },
      "execution_count": 70,
      "outputs": []
    },
    {
      "cell_type": "code",
      "source": [
        "# Checking if recom['user_id'] isin users Series\n",
        "# Filter recommendations based on selected users\n",
        "final_df = recom.filter(recom.user_id.isin(users))\n",
        "final_df.show(5)"
      ],
      "metadata": {
        "id": "IfjqZ-qHBJVe",
        "colab": {
          "base_uri": "https://localhost:8080/"
        },
        "outputId": "83225726-6d64-4798-9188-fef277ac9908"
      },
      "execution_count": 71,
      "outputs": [
        {
          "output_type": "stream",
          "name": "stdout",
          "text": [
            "+-------+--------------+-----+--------+\n",
            "| app_id|is_recommended|hours| user_id|\n",
            "+-------+--------------+-----+--------+\n",
            "|1091500|          true|419.5|12073521|\n",
            "|1091500|          true|322.3|  298112|\n",
            "|1091500|          true|436.5| 6952598|\n",
            "|1158310|          true|206.7| 7486824|\n",
            "| 304390|         false|  3.2| 8436846|\n",
            "+-------+--------------+-----+--------+\n",
            "only showing top 5 rows\n",
            "\n"
          ]
        }
      ]
    },
    {
      "cell_type": "code",
      "source": [
        "# Counting how many users have played these games\n",
        "# Checing how many users have played a game & taking the top 7 games\n",
        "recom_games = final_df.groupBy(\"app_id\").count().orderBy(\"count\", ascending=False).limit(7).collect()\n",
        "recom_games"
      ],
      "metadata": {
        "id": "_XNMD-_VBJNT",
        "colab": {
          "base_uri": "https://localhost:8080/"
        },
        "outputId": "49aedc7c-e537-41c0-cdec-3109fa0beae9"
      },
      "execution_count": 72,
      "outputs": [
        {
          "output_type": "execute_result",
          "data": {
            "text/plain": [
              "[Row(app_id=1091500, count=1000),\n",
              " Row(app_id=377160, count=8),\n",
              " Row(app_id=1174180, count=6),\n",
              " Row(app_id=534380, count=5),\n",
              " Row(app_id=397540, count=5),\n",
              " Row(app_id=292030, count=4),\n",
              " Row(app_id=218620, count=4)]"
            ]
          },
          "metadata": {},
          "execution_count": 72
        }
      ]
    },
    {
      "cell_type": "code",
      "source": [
        "# Extract count from recom_games\n",
        "count_played = [row[\"count\"] for row in recom_games[1:]]\n",
        "count_played"
      ],
      "metadata": {
        "colab": {
          "base_uri": "https://localhost:8080/"
        },
        "id": "48iRQnhomeF_",
        "outputId": "b6cad6d9-f1f7-47e7-ad39-4e58ac25517b"
      },
      "execution_count": 73,
      "outputs": [
        {
          "output_type": "execute_result",
          "data": {
            "text/plain": [
              "[8, 6, 5, 5, 4, 4]"
            ]
          },
          "metadata": {},
          "execution_count": 73
        }
      ]
    },
    {
      "cell_type": "code",
      "source": [
        "# Extract app_id from recom_games\n",
        "apps = [row[\"app_id\"] for row in recom_games[1:]]\n",
        "apps"
      ],
      "metadata": {
        "id": "QGkEKtWLBJJ1",
        "colab": {
          "base_uri": "https://localhost:8080/"
        },
        "outputId": "4542c144-8732-42d3-ef0a-4746d6a9a12c"
      },
      "execution_count": 74,
      "outputs": [
        {
          "output_type": "execute_result",
          "data": {
            "text/plain": [
              "[377160, 1174180, 534380, 397540, 292030, 218620]"
            ]
          },
          "metadata": {},
          "execution_count": 74
        }
      ]
    },
    {
      "cell_type": "code",
      "source": [
        "# Making recom_games list into a DataFrame with columns as \"app_id\" & \"count_played\"\n",
        "apps_count = spark.createDataFrame(recom_games, [\"app_id\", \"count_played\"])\n",
        "apps_count.show()"
      ],
      "metadata": {
        "colab": {
          "base_uri": "https://localhost:8080/"
        },
        "id": "-sE-GN0dwKqs",
        "outputId": "a6a5446c-2cdb-44d6-a43b-ec8918258a3b"
      },
      "execution_count": 75,
      "outputs": [
        {
          "output_type": "stream",
          "name": "stdout",
          "text": [
            "+-------+------------+\n",
            "| app_id|count_played|\n",
            "+-------+------------+\n",
            "|1091500|        1000|\n",
            "| 377160|           8|\n",
            "|1174180|           6|\n",
            "| 534380|           5|\n",
            "| 397540|           5|\n",
            "| 292030|           4|\n",
            "| 218620|           4|\n",
            "+-------+------------+\n",
            "\n"
          ]
        }
      ]
    },
    {
      "cell_type": "code",
      "source": [
        "# Getting games name from games table by comparing app_id from apps list\n",
        "output = games.filter(games.app_id.isin(apps))\n",
        "output.show()"
      ],
      "metadata": {
        "id": "ei-vGmgpDME-",
        "colab": {
          "base_uri": "https://localhost:8080/"
        },
        "outputId": "7399b1e7-ba7a-43a9-9d55-3a25ad37e4ae"
      },
      "execution_count": 76,
      "outputs": [
        {
          "output_type": "stream",
          "name": "stdout",
          "text": [
            "+-------+--------------------+----+-----+-----+--------------------+--------------+------------+-----------+\n",
            "| app_id|               title| win|  mac|linux|              rating|positive_ratio|user_reviews|price_final|\n",
            "+-------+--------------------+----+-----+-----+--------------------+--------------+------------+-----------+\n",
            "| 218620|            PAYDAY 2|true|false| true|       Very Positive|            89|      405728|       9.99|\n",
            "| 292030|The Witcher® 3: W...|true|false|false|Overwhelmingly Po...|            96|      656330|      39.99|\n",
            "| 377160|           Fallout 4|true|false|false|       Very Positive|            83|      198619|       6.59|\n",
            "| 397540|       Borderlands 3|true|false|false|       Very Positive|            84|       92749|      59.99|\n",
            "| 534380|Dying Light 2 Sta...|true|false|false|     Mostly Positive|            79|      107913|      59.99|\n",
            "|1174180|Red Dead Redempti...|true|false|false|       Very Positive|            90|      379488|      59.99|\n",
            "+-------+--------------------+----+-----+-----+--------------------+--------------+------------+-----------+\n",
            "\n"
          ]
        }
      ]
    },
    {
      "cell_type": "code",
      "source": [
        "# Joining two Dataframe on app_id to get count_played for each game\n",
        "output = output.join(apps_count, on=\"app_id\", how=\"inner\")\n",
        "\n",
        "output.show()"
      ],
      "metadata": {
        "colab": {
          "base_uri": "https://localhost:8080/"
        },
        "id": "Z2on97ftuDCB",
        "outputId": "b35458d9-eab7-4384-fb75-072a673819d5"
      },
      "execution_count": 77,
      "outputs": [
        {
          "output_type": "stream",
          "name": "stdout",
          "text": [
            "+-------+--------------------+----+-----+-----+--------------------+--------------+------------+-----------+------------+\n",
            "| app_id|               title| win|  mac|linux|              rating|positive_ratio|user_reviews|price_final|count_played|\n",
            "+-------+--------------------+----+-----+-----+--------------------+--------------+------------+-----------+------------+\n",
            "| 377160|           Fallout 4|true|false|false|       Very Positive|            83|      198619|       6.59|           8|\n",
            "|1174180|Red Dead Redempti...|true|false|false|       Very Positive|            90|      379488|      59.99|           6|\n",
            "| 534380|Dying Light 2 Sta...|true|false|false|     Mostly Positive|            79|      107913|      59.99|           5|\n",
            "| 397540|       Borderlands 3|true|false|false|       Very Positive|            84|       92749|      59.99|           5|\n",
            "| 292030|The Witcher® 3: W...|true|false|false|Overwhelmingly Po...|            96|      656330|      39.99|           4|\n",
            "| 218620|            PAYDAY 2|true|false| true|       Very Positive|            89|      405728|       9.99|           4|\n",
            "+-------+--------------------+----+-----+-----+--------------------+--------------+------------+-----------+------------+\n",
            "\n"
          ]
        }
      ]
    },
    {
      "cell_type": "code",
      "source": [
        "# Filters\n",
        "cond = input(\"Do you want to add filters(Os,Price,None): \")\n",
        "\n",
        "if cond.lower() == 'os':\n",
        "    os = input(\"Enter preferred Os system(windows/mac/linux/any): \").lower()\n",
        "    if(os=='windows'):\n",
        "      os = 'win'\n",
        "\n",
        "    if os in ['win', 'mac', 'linux', 'any']:\n",
        "        if os == 'any':\n",
        "            output.show(truncate=False)\n",
        "        else:\n",
        "            os_col = os if os != 'any' else 'win'\n",
        "            filtered_titles = output.filter(output[os_col] == True)\n",
        "            if filtered_titles.count() == 0:\n",
        "                print(\"No Games found\")\n",
        "            else:\n",
        "                filtered_titles.show(truncate=False)\n",
        "    else:\n",
        "        print(\"Please enter a valid OS option.\")\n",
        "\n",
        "elif cond.lower() == 'price':\n",
        "    price = float(input(\"Enter price range: \"))\n",
        "    filtered_titles = output.filter(output.price_final <= price)\n",
        "    filtered_titles.show(truncate=False)\n",
        "\n",
        "elif cond.lower() == 'none':\n",
        "    output.show(truncate=False)\n",
        "\n",
        "else:\n",
        "    print(\"Please enter valid filter options.\")"
      ],
      "metadata": {
        "id": "eut7lxopDMBu",
        "colab": {
          "base_uri": "https://localhost:8080/"
        },
        "outputId": "e956808b-6903-4700-b1da-971e6bbf0390"
      },
      "execution_count": 78,
      "outputs": [
        {
          "output_type": "stream",
          "name": "stdout",
          "text": [
            "Do you want to add filters(Os,Price,None): none\n",
            "+-------+-------------------------+----+-----+-----+-----------------------+--------------+------------+-----------+------------+\n",
            "|app_id |title                    |win |mac  |linux|rating                 |positive_ratio|user_reviews|price_final|count_played|\n",
            "+-------+-------------------------+----+-----+-----+-----------------------+--------------+------------+-----------+------------+\n",
            "|377160 |Fallout 4                |true|false|false|Very Positive          |83            |198619      |6.59       |8           |\n",
            "|1174180|Red Dead Redemption 2    |true|false|false|Very Positive          |90            |379488      |59.99      |6           |\n",
            "|534380 |Dying Light 2 Stay Human |true|false|false|Mostly Positive        |79            |107913      |59.99      |5           |\n",
            "|397540 |Borderlands 3            |true|false|false|Very Positive          |84            |92749       |59.99      |5           |\n",
            "|292030 |The Witcher® 3: Wild Hunt|true|false|false|Overwhelmingly Positive|96            |656330      |39.99      |4           |\n",
            "|218620 |PAYDAY 2                 |true|false|true |Very Positive          |89            |405728      |9.99       |4           |\n",
            "+-------+-------------------------+----+-----+-----+-----------------------+--------------+------------+-----------+------------+\n",
            "\n"
          ]
        }
      ]
    },
    {
      "cell_type": "code",
      "source": [
        "#spark.stop()"
      ],
      "metadata": {
        "id": "EqFxxTw3DMAN"
      },
      "execution_count": null,
      "outputs": []
    },
    {
      "cell_type": "code",
      "source": [],
      "metadata": {
        "id": "wirhdugWDL9n"
      },
      "execution_count": null,
      "outputs": []
    },
    {
      "cell_type": "code",
      "source": [],
      "metadata": {
        "id": "CePXKJtEDL6M"
      },
      "execution_count": null,
      "outputs": []
    }
  ]
}