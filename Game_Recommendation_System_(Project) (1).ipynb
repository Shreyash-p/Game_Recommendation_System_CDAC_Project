{
  "nbformat": 4,
  "nbformat_minor": 0,
  "metadata": {
    "colab": {
      "provenance": []
    },
    "kernelspec": {
      "name": "python3",
      "display_name": "Python 3"
    },
    "language_info": {
      "name": "python"
    }
  },
  "cells": [
    {
      "cell_type": "code",
      "execution_count": null,
      "metadata": {
        "id": "O3S_43RzAfIj"
      },
      "outputs": [],
      "source": [
        "#pip install pyspark"
      ]
    },
    {
      "cell_type": "code",
      "source": [
        "from pyspark.sql import SparkSession\n",
        "from pyspark.sql.functions import col, count, when\n",
        "import matplotlib.pyplot as plt\n",
        "import seaborn as sns"
      ],
      "metadata": {
        "id": "WZrdWslEAprw"
      },
      "execution_count": null,
      "outputs": []
    },
    {
      "cell_type": "code",
      "source": [
        "spark = SparkSession.builder.appName(\"Game_Recommendation_System\").getOrCreate()"
      ],
      "metadata": {
        "id": "syU7IQ8bFoWB"
      },
      "execution_count": null,
      "outputs": []
    },
    {
      "cell_type": "code",
      "source": [
        "# Reading Data\n",
        "recom = spark.read.csv(\"/content/recommendations.csv\", header=True, inferSchema=True)\n",
        "games = spark.read.csv(\"/content/games.csv\", header=True, inferSchema=True)"
      ],
      "metadata": {
        "id": "2WYPxS-aAuJR"
      },
      "execution_count": null,
      "outputs": []
    },
    {
      "cell_type": "code",
      "source": [
        "games.show(10)"
      ],
      "metadata": {
        "colab": {
          "base_uri": "https://localhost:8080/"
        },
        "id": "anc-FYCPA52J",
        "outputId": "84b8159e-cc72-42bf-eb87-4f8a994c8f08"
      },
      "execution_count": null,
      "outputs": [
        {
          "output_type": "stream",
          "name": "stdout",
          "text": [
            "+------+--------------------+------------+----+-----+-----+---------------+--------------+------------+-----------+--------------+--------+----------+\n",
            "|app_id|               title|date_release| win|  mac|linux|         rating|positive_ratio|user_reviews|price_final|price_original|discount|steam_deck|\n",
            "+------+--------------------+------------+----+-----+-----+---------------+--------------+------------+-----------+--------------+--------+----------+\n",
            "| 13500|Prince of Persia:...|  2008-11-21|true|false|false|  Very Positive|            84|        2199|       9.99|          9.99|     0.0|      true|\n",
            "| 22364|BRINK: Agents of ...|  2011-08-03|true|false|false|       Positive|            85|          21|       2.99|          2.99|     0.0|      true|\n",
            "|113020|Monaco: What's Yo...|  2013-04-24|true| true| true|  Very Positive|            92|        3722|      14.99|         14.99|     0.0|      true|\n",
            "|226560|  Escape Dead Island|  2014-11-18|true|false|false|          Mixed|            61|         873|      14.99|         14.99|     0.0|      true|\n",
            "|249050|Dungeon of the EN...|  2014-10-27|true| true|false|  Very Positive|            88|        8784|      11.99|         11.99|     0.0|      true|\n",
            "|250180|        METAL SLUG 3|  2015-09-14|true|false|false|  Very Positive|            90|        5579|       7.99|          7.99|     0.0|      true|\n",
            "|253980|             Enclave|  2013-10-04|true| true| true|Mostly Positive|            75|        1608|       4.99|          4.99|     0.0|      true|\n",
            "|271850|Men of War: Assau...|  2014-05-16|true|false|false|          Mixed|            61|         199|       6.99|          6.99|     0.0|      true|\n",
            "|282900|Hyperdimension Ne...|  2015-01-29|true|false|false|  Very Positive|            94|        9686|      14.99|         14.99|     0.0|      true|\n",
            "| 19810|The Sum of All Fears|  2008-10-10|true|false|false|Mostly Positive|            75|          33|       9.99|          9.99|     0.0|      true|\n",
            "+------+--------------------+------------+----+-----+-----+---------------+--------------+------------+-----------+--------------+--------+----------+\n",
            "only showing top 10 rows\n",
            "\n"
          ]
        }
      ]
    },
    {
      "cell_type": "code",
      "source": [
        "recom.show(10)"
      ],
      "metadata": {
        "colab": {
          "base_uri": "https://localhost:8080/"
        },
        "id": "U1oT2IKwA5yq",
        "outputId": "8418d60e-e77b-4772-d81a-3c858de4d204"
      },
      "execution_count": null,
      "outputs": [
        {
          "output_type": "stream",
          "name": "stdout",
          "text": [
            "+-------+-------+-----+-------------------+--------------+-----+-------+---------+\n",
            "| app_id|helpful|funny|               date|is_recommended|hours|user_id|review_id|\n",
            "+-------+-------+-----+-------------------+--------------+-----+-------+---------+\n",
            "| 975370|      0|    0|2022-12-12 00:00:00|          true| 36.3|  47199|        0|\n",
            "| 304390|      4|    0|2017-02-17 00:00:00|         false| 11.5|   2376|        1|\n",
            "|1085660|      2|    0|2019-11-17 00:00:00|          true|336.5| 230757|        2|\n",
            "| 703080|      0|    0|2022-09-23 00:00:00|          true| 27.4| 235736|        3|\n",
            "| 526870|      0|    0|2021-01-10 00:00:00|          true|  7.9|  21721|        4|\n",
            "| 306130|      0|    0|2021-10-10 00:00:00|          true|  8.6|  41543|        5|\n",
            "| 238960|      0|    0|2017-11-25 00:00:00|          true|538.8|  80787|        6|\n",
            "|    730|      0|    0|2021-11-30 00:00:00|         false|157.5|  57879|        7|\n",
            "| 255710|      0|    0|2021-05-21 00:00:00|          true| 18.7| 321815|        8|\n",
            "| 289070|      0|    0|2020-05-26 00:00:00|          true|397.5| 412440|        9|\n",
            "+-------+-------+-----+-------------------+--------------+-----+-------+---------+\n",
            "only showing top 10 rows\n",
            "\n"
          ]
        }
      ]
    },
    {
      "cell_type": "code",
      "source": [
        "games.printSchema()"
      ],
      "metadata": {
        "colab": {
          "base_uri": "https://localhost:8080/"
        },
        "id": "zOKIvLAUBVt_",
        "outputId": "bd45ddfc-77fb-4992-ea60-7e09903e265a"
      },
      "execution_count": null,
      "outputs": [
        {
          "output_type": "stream",
          "name": "stdout",
          "text": [
            "root\n",
            " |-- app_id: integer (nullable = true)\n",
            " |-- title: string (nullable = true)\n",
            " |-- win: boolean (nullable = true)\n",
            " |-- mac: boolean (nullable = true)\n",
            " |-- linux: boolean (nullable = true)\n",
            " |-- rating: string (nullable = true)\n",
            " |-- positive_ratio: integer (nullable = true)\n",
            " |-- user_reviews: integer (nullable = true)\n",
            " |-- price_final: double (nullable = true)\n",
            "\n"
          ]
        }
      ]
    },
    {
      "cell_type": "code",
      "source": [
        "recom.printSchema()"
      ],
      "metadata": {
        "colab": {
          "base_uri": "https://localhost:8080/"
        },
        "id": "ApsYk0icBVny",
        "outputId": "ebbbaadc-a994-4424-c2cd-ae7f16ff35f8"
      },
      "execution_count": null,
      "outputs": [
        {
          "output_type": "stream",
          "name": "stdout",
          "text": [
            "root\n",
            " |-- app_id: integer (nullable = true)\n",
            " |-- hours: double (nullable = true)\n",
            " |-- user_id: integer (nullable = true)\n",
            "\n"
          ]
        }
      ]
    },
    {
      "cell_type": "code",
      "source": [
        "# Deleting unnecessary columns\n",
        "dropg = ['date_release', 'discount', 'steam_deck', 'price_original']\n",
        "dropr = ['helpful', 'funny', 'date', 'is_recommended', 'review_id']\n",
        "\n",
        "games = games.drop(*dropg)\n",
        "recom = recom.drop(*dropr)"
      ],
      "metadata": {
        "id": "MGkH8pJoA5wN"
      },
      "execution_count": null,
      "outputs": []
    },
    {
      "cell_type": "code",
      "source": [
        "games.show(10)"
      ],
      "metadata": {
        "colab": {
          "base_uri": "https://localhost:8080/"
        },
        "id": "UWc5hoeaBJwo",
        "outputId": "ea3f048c-5ada-4678-c5e1-66548f3958ba"
      },
      "execution_count": null,
      "outputs": [
        {
          "output_type": "stream",
          "name": "stdout",
          "text": [
            "+------+--------------------+----+-----+-----+---------------+--------------+------------+-----------+\n",
            "|app_id|               title| win|  mac|linux|         rating|positive_ratio|user_reviews|price_final|\n",
            "+------+--------------------+----+-----+-----+---------------+--------------+------------+-----------+\n",
            "| 13500|Prince of Persia:...|true|false|false|  Very Positive|            84|        2199|       9.99|\n",
            "| 22364|BRINK: Agents of ...|true|false|false|       Positive|            85|          21|       2.99|\n",
            "|113020|Monaco: What's Yo...|true| true| true|  Very Positive|            92|        3722|      14.99|\n",
            "|226560|  Escape Dead Island|true|false|false|          Mixed|            61|         873|      14.99|\n",
            "|249050|Dungeon of the EN...|true| true|false|  Very Positive|            88|        8784|      11.99|\n",
            "|250180|        METAL SLUG 3|true|false|false|  Very Positive|            90|        5579|       7.99|\n",
            "|253980|             Enclave|true| true| true|Mostly Positive|            75|        1608|       4.99|\n",
            "|271850|Men of War: Assau...|true|false|false|          Mixed|            61|         199|       6.99|\n",
            "|282900|Hyperdimension Ne...|true|false|false|  Very Positive|            94|        9686|      14.99|\n",
            "| 19810|The Sum of All Fears|true|false|false|Mostly Positive|            75|          33|       9.99|\n",
            "+------+--------------------+----+-----+-----+---------------+--------------+------------+-----------+\n",
            "only showing top 10 rows\n",
            "\n"
          ]
        }
      ]
    },
    {
      "cell_type": "code",
      "source": [
        "recom.show(10)"
      ],
      "metadata": {
        "colab": {
          "base_uri": "https://localhost:8080/"
        },
        "id": "GfJAPWatBJud",
        "outputId": "68365417-a7be-4ed7-91cb-0c7058d812c3"
      },
      "execution_count": null,
      "outputs": [
        {
          "output_type": "stream",
          "name": "stdout",
          "text": [
            "+-------+-----+-------+\n",
            "| app_id|hours|user_id|\n",
            "+-------+-----+-------+\n",
            "| 975370| 36.3|  47199|\n",
            "| 304390| 11.5|   2376|\n",
            "|1085660|336.5| 230757|\n",
            "| 703080| 27.4| 235736|\n",
            "| 526870|  7.9|  21721|\n",
            "| 306130|  8.6|  41543|\n",
            "| 238960|538.8|  80787|\n",
            "|    730|157.5|  57879|\n",
            "| 255710| 18.7| 321815|\n",
            "| 289070|397.5| 412440|\n",
            "+-------+-----+-------+\n",
            "only showing top 10 rows\n",
            "\n"
          ]
        }
      ]
    },
    {
      "cell_type": "code",
      "source": [
        "# Check null values in Data\n",
        "null_games = games.select([count(when(col(i).isNull(),i)).alias(i) for i in games.columns])\n",
        "null_games.show()"
      ],
      "metadata": {
        "colab": {
          "base_uri": "https://localhost:8080/"
        },
        "id": "S_jW0K_nGSXT",
        "outputId": "4630c625-3aa9-4ef7-f2bc-cc82cb9b50db"
      },
      "execution_count": null,
      "outputs": [
        {
          "output_type": "stream",
          "name": "stdout",
          "text": [
            "+------+-----+---+---+-----+------+--------------+------------+-----------+\n",
            "|app_id|title|win|mac|linux|rating|positive_ratio|user_reviews|price_final|\n",
            "+------+-----+---+---+-----+------+--------------+------------+-----------+\n",
            "|     0|    0|  0|  0|    0|     0|             0|           0|          0|\n",
            "+------+-----+---+---+-----+------+--------------+------------+-----------+\n",
            "\n"
          ]
        }
      ]
    },
    {
      "cell_type": "code",
      "source": [
        "null_recom = recom.select([count(when(col(i).isNull(),i)).alias(i) for i in recom.columns])\n",
        "null_recom.show()"
      ],
      "metadata": {
        "colab": {
          "base_uri": "https://localhost:8080/"
        },
        "id": "WwGN1zJ4GnpA",
        "outputId": "464b4afb-d53d-4767-c5ad-b6a7fa86f485"
      },
      "execution_count": null,
      "outputs": [
        {
          "output_type": "stream",
          "name": "stdout",
          "text": [
            "+------+-----+-------+\n",
            "|app_id|hours|user_id|\n",
            "+------+-----+-------+\n",
            "|     0|    1|      1|\n",
            "+------+-----+-------+\n",
            "\n"
          ]
        }
      ]
    },
    {
      "cell_type": "code",
      "source": [
        "recom = recom.dropna()\n",
        "null_recom = recom.select([count(when(col(i).isNull(),i)).alias(i) for i in recom.columns])\n",
        "null_recom.show()"
      ],
      "metadata": {
        "colab": {
          "base_uri": "https://localhost:8080/"
        },
        "id": "1Y7zfNctRf6a",
        "outputId": "d667b0da-6845-42fa-d4f5-14fbe5ba6a7f"
      },
      "execution_count": null,
      "outputs": [
        {
          "output_type": "stream",
          "name": "stdout",
          "text": [
            "+------+-----+-------+\n",
            "|app_id|hours|user_id|\n",
            "+------+-----+-------+\n",
            "|     0|    0|      0|\n",
            "+------+-----+-------+\n",
            "\n"
          ]
        }
      ]
    },
    {
      "cell_type": "code",
      "source": [
        "# Demo inputs\n",
        "# Grand Theft Auto V\n",
        "# Dying Light 2 Stay Human\n",
        "# Cyberpunk 2077\n",
        "# Red Dead Redemption 2\n",
        "# Jurassic World Evolution 2\n",
        "# FINAL FANTASY XIV Online\n",
        "# Farming Simulator 22"
      ],
      "metadata": {
        "id": "o4q2b3hfBJmI"
      },
      "execution_count": null,
      "outputs": []
    },
    {
      "cell_type": "code",
      "source": [
        "# Taking a input game\n",
        "input_game_name = input(\"Enter the name of the game: \")\n",
        "target_app_id = games.filter(games.title == input_game_name).collect()\n",
        "target_app_id = target_app_id[0][\"app_id\"]\n",
        "target_app_id"
      ],
      "metadata": {
        "colab": {
          "base_uri": "https://localhost:8080/"
        },
        "id": "icXwg4X3BJjQ",
        "outputId": "743a7c9b-1b9c-4b34-ffba-8768fc5a8e4b"
      },
      "execution_count": null,
      "outputs": [
        {
          "name": "stdout",
          "output_type": "stream",
          "text": [
            "Enter the name of the game: Cyberpunk 2077\n"
          ]
        },
        {
          "output_type": "execute_result",
          "data": {
            "text/plain": [
              "1091500"
            ]
          },
          "metadata": {},
          "execution_count": 100
        }
      ]
    },
    {
      "cell_type": "code",
      "source": [
        "filtered_games = games.filter(games.app_id == target_app_id)\n",
        "\n",
        "filtered_games.show()"
      ],
      "metadata": {
        "id": "E49vbLL8BJgm",
        "colab": {
          "base_uri": "https://localhost:8080/"
        },
        "outputId": "0a387b76-a0dd-4671-b40d-03dd161990a8"
      },
      "execution_count": null,
      "outputs": [
        {
          "output_type": "stream",
          "name": "stdout",
          "text": [
            "+-------+--------------+----+-----+-----+---------------+--------------+------------+-----------+\n",
            "| app_id|         title| win|  mac|linux|         rating|positive_ratio|user_reviews|price_final|\n",
            "+-------+--------------+----+-----+-----+---------------+--------------+------------+-----------+\n",
            "|1091500|Cyberpunk 2077|true|false|false|Mostly Positive|            79|      541364|      59.99|\n",
            "+-------+--------------+----+-----+-----+---------------+--------------+------------+-----------+\n",
            "\n"
          ]
        }
      ]
    },
    {
      "cell_type": "code",
      "source": [
        "# Checking how many users have played this game(app_id) from recom table\n",
        "target_user_ids = recom.filter(recom.app_id == target_app_id)\n",
        "target_user_ids.show(5)"
      ],
      "metadata": {
        "id": "GZXvUqfvBJdp",
        "colab": {
          "base_uri": "https://localhost:8080/"
        },
        "outputId": "a791f1da-3674-44fa-d321-71fde69a4708"
      },
      "execution_count": null,
      "outputs": [
        {
          "output_type": "stream",
          "name": "stdout",
          "text": [
            "+-------+-----+--------+\n",
            "| app_id|hours| user_id|\n",
            "+-------+-----+--------+\n",
            "|1091500|108.8|  430698|\n",
            "|1091500| 18.1| 3984740|\n",
            "|1091500| 61.4| 6876593|\n",
            "|1091500| 28.6| 8132987|\n",
            "|1091500| 77.3|12235370|\n",
            "+-------+-----+--------+\n",
            "only showing top 5 rows\n",
            "\n"
          ]
        }
      ]
    },
    {
      "cell_type": "code",
      "source": [
        "# Sorting DataFrame(usr_id) by hours\n",
        "# To get the players who played the game more. Because they liked the game more so they can give more accurate recommendation\n",
        "# Selecting top 1000 players\n",
        "usr_id = target_user_ids.orderBy(\"hours\", ascending=False).limit(1000)\n",
        "usr_id.show(5)"
      ],
      "metadata": {
        "id": "BiYEvuUmBJa6",
        "colab": {
          "base_uri": "https://localhost:8080/"
        },
        "outputId": "63fe21e5-6377-4a82-d325-ff375578ce74"
      },
      "execution_count": null,
      "outputs": [
        {
          "output_type": "stream",
          "name": "stdout",
          "text": [
            "+-------+-----+--------+\n",
            "| app_id|hours| user_id|\n",
            "+-------+-----+--------+\n",
            "|1091500|999.1|10611967|\n",
            "|1091500|997.2| 6240929|\n",
            "|1091500|996.5|12800978|\n",
            "|1091500|995.7|  851016|\n",
            "|1091500|994.7| 9240746|\n",
            "+-------+-----+--------+\n",
            "only showing top 5 rows\n",
            "\n"
          ]
        }
      ]
    },
    {
      "cell_type": "code",
      "source": [
        "# Extracting user_id of these users\n",
        "users = usr_id.select(\"user_id\").rdd.flatMap(lambda x: x).collect()"
      ],
      "metadata": {
        "id": "YlMLjqBsBJYO"
      },
      "execution_count": null,
      "outputs": []
    },
    {
      "cell_type": "code",
      "source": [
        "# Checking if recom['user_id'] isin users Series\n",
        "# Filter recommendations based on selected users\n",
        "final_df = recom.filter(recom.user_id.isin(users))\n",
        "final_df.show(5)"
      ],
      "metadata": {
        "id": "IfjqZ-qHBJVe",
        "colab": {
          "base_uri": "https://localhost:8080/"
        },
        "outputId": "dc7d169d-b31c-4903-eb6f-74320530173d"
      },
      "execution_count": null,
      "outputs": [
        {
          "output_type": "stream",
          "name": "stdout",
          "text": [
            "+-------+-----+--------+\n",
            "| app_id|hours| user_id|\n",
            "+-------+-----+--------+\n",
            "|1091500|734.8|12653296|\n",
            "| 255710|640.6| 3948193|\n",
            "| 632360|100.1| 3270572|\n",
            "| 976730|276.5|10334766|\n",
            "|1091500|681.0|13029013|\n",
            "+-------+-----+--------+\n",
            "only showing top 5 rows\n",
            "\n"
          ]
        }
      ]
    },
    {
      "cell_type": "code",
      "source": [
        "# Counting how many users have played these games\n",
        "# Checing how many users have played a game & taking the top 7 games\n",
        "recom_games = final_df.groupBy(\"app_id\").count().orderBy(\"count\", ascending=False).limit(7).collect()\n",
        "recom_games"
      ],
      "metadata": {
        "id": "_XNMD-_VBJNT",
        "colab": {
          "base_uri": "https://localhost:8080/"
        },
        "outputId": "8af4f825-9376-4a39-8eb4-6a6582d3d8e5"
      },
      "execution_count": null,
      "outputs": [
        {
          "output_type": "execute_result",
          "data": {
            "text/plain": [
              "[Row(app_id=1091500, count=1000),\n",
              " Row(app_id=377160, count=79),\n",
              " Row(app_id=275850, count=64),\n",
              " Row(app_id=1174180, count=53),\n",
              " Row(app_id=431960, count=40),\n",
              " Row(app_id=292030, count=39),\n",
              " Row(app_id=271590, count=35)]"
            ]
          },
          "metadata": {},
          "execution_count": 106
        }
      ]
    },
    {
      "cell_type": "code",
      "source": [
        "# Extract count from recom_games\n",
        "count_played = [row[\"count\"] for row in recom_games[1:]]\n",
        "count_played"
      ],
      "metadata": {
        "colab": {
          "base_uri": "https://localhost:8080/"
        },
        "id": "48iRQnhomeF_",
        "outputId": "ab18ad0d-397b-4324-e56b-381a42c22b8f"
      },
      "execution_count": null,
      "outputs": [
        {
          "output_type": "execute_result",
          "data": {
            "text/plain": [
              "[79, 64, 53, 40, 39, 35]"
            ]
          },
          "metadata": {},
          "execution_count": 107
        }
      ]
    },
    {
      "cell_type": "code",
      "source": [
        "# Extract app_id from recom_games\n",
        "apps = [row[\"app_id\"] for row in recom_games[1:]]\n",
        "apps"
      ],
      "metadata": {
        "id": "QGkEKtWLBJJ1",
        "colab": {
          "base_uri": "https://localhost:8080/"
        },
        "outputId": "5a4bc796-d03f-4a25-8261-9fd7e73a7aa7"
      },
      "execution_count": null,
      "outputs": [
        {
          "output_type": "execute_result",
          "data": {
            "text/plain": [
              "[377160, 275850, 1174180, 431960, 292030, 271590]"
            ]
          },
          "metadata": {},
          "execution_count": 108
        }
      ]
    },
    {
      "cell_type": "code",
      "source": [
        "# Making recom_games list into a DataFrame with columns as \"app_id\" & \"count_played\"\n",
        "apps_count = spark.createDataFrame(recom_games, [\"app_id\", \"count_played\"])\n",
        "apps_count.show()"
      ],
      "metadata": {
        "colab": {
          "base_uri": "https://localhost:8080/"
        },
        "id": "-sE-GN0dwKqs",
        "outputId": "e8de2891-2c95-4222-8c7c-9365bac5ac84"
      },
      "execution_count": null,
      "outputs": [
        {
          "output_type": "stream",
          "name": "stdout",
          "text": [
            "+-------+------------+\n",
            "| app_id|count_played|\n",
            "+-------+------------+\n",
            "|1091500|        1000|\n",
            "| 377160|          79|\n",
            "| 275850|          64|\n",
            "|1174180|          53|\n",
            "| 431960|          40|\n",
            "| 292030|          39|\n",
            "| 271590|          35|\n",
            "+-------+------------+\n",
            "\n"
          ]
        }
      ]
    },
    {
      "cell_type": "code",
      "source": [
        "# Getting games name from games table by comparing app_id from apps list\n",
        "output = games.filter(games.app_id.isin(apps))\n",
        "output.show()"
      ],
      "metadata": {
        "id": "ei-vGmgpDME-",
        "colab": {
          "base_uri": "https://localhost:8080/"
        },
        "outputId": "9464e56a-0fca-44d5-ee1a-019198f9b8b6"
      },
      "execution_count": null,
      "outputs": [
        {
          "output_type": "stream",
          "name": "stdout",
          "text": [
            "+-------+--------------------+----+-----+-----+--------------------+--------------+------------+-----------+\n",
            "| app_id|               title| win|  mac|linux|              rating|positive_ratio|user_reviews|price_final|\n",
            "+-------+--------------------+----+-----+-----+--------------------+--------------+------------+-----------+\n",
            "| 271590|  Grand Theft Auto V|true|false|false|       Very Positive|            86|     1431104|        0.0|\n",
            "| 275850|        No Man's Sky|true| true|false|     Mostly Positive|            75|      205112|      59.99|\n",
            "| 292030|The Witcher® 3: W...|true|false|false|Overwhelmingly Po...|            96|      656330|      39.99|\n",
            "| 377160|           Fallout 4|true|false|false|       Very Positive|            83|      198619|       6.59|\n",
            "| 431960|    Wallpaper Engine|true|false|false|Overwhelmingly Po...|            98|      609312|       3.99|\n",
            "|1174180|Red Dead Redempti...|true|false|false|       Very Positive|            90|      379488|      59.99|\n",
            "+-------+--------------------+----+-----+-----+--------------------+--------------+------------+-----------+\n",
            "\n"
          ]
        }
      ]
    },
    {
      "cell_type": "code",
      "source": [
        "# Joining two Dataframe on app_id to get count_played for each game\n",
        "output = output.join(apps_count, on=\"app_id\", how=\"inner\")\n",
        "\n",
        "output.show()"
      ],
      "metadata": {
        "colab": {
          "base_uri": "https://localhost:8080/"
        },
        "id": "Z2on97ftuDCB",
        "outputId": "d6ab8eba-2712-4ddf-ad10-c06dad669a54"
      },
      "execution_count": null,
      "outputs": [
        {
          "output_type": "stream",
          "name": "stdout",
          "text": [
            "+-------+--------------------+----+-----+-----+--------------------+--------------+------------+-----------+------------+\n",
            "| app_id|               title| win|  mac|linux|              rating|positive_ratio|user_reviews|price_final|count_played|\n",
            "+-------+--------------------+----+-----+-----+--------------------+--------------+------------+-----------+------------+\n",
            "| 377160|           Fallout 4|true|false|false|       Very Positive|            83|      198619|       6.59|          79|\n",
            "| 275850|        No Man's Sky|true| true|false|     Mostly Positive|            75|      205112|      59.99|          64|\n",
            "|1174180|Red Dead Redempti...|true|false|false|       Very Positive|            90|      379488|      59.99|          53|\n",
            "| 431960|    Wallpaper Engine|true|false|false|Overwhelmingly Po...|            98|      609312|       3.99|          40|\n",
            "| 292030|The Witcher® 3: W...|true|false|false|Overwhelmingly Po...|            96|      656330|      39.99|          39|\n",
            "| 271590|  Grand Theft Auto V|true|false|false|       Very Positive|            86|     1431104|        0.0|          35|\n",
            "+-------+--------------------+----+-----+-----+--------------------+--------------+------------+-----------+------------+\n",
            "\n"
          ]
        }
      ]
    },
    {
      "cell_type": "code",
      "source": [
        "# Filters\n",
        "cond = input(\"Do you want to add filters(Os,Price,None): \")\n",
        "\n",
        "if cond.lower() == 'os':\n",
        "    os = input(\"Enter preferred Os system(windows/mac/linux/any): \").lower()\n",
        "    if(os=='windows'):\n",
        "      os = 'win'\n",
        "\n",
        "    if os in ['win', 'mac', 'linux', 'any']:\n",
        "        if os == 'any':\n",
        "            output.show(truncate=False)\n",
        "        else:\n",
        "            os_col = os if os != 'any' else 'win'\n",
        "            filtered_titles = output.filter(output[os_col] == True)\n",
        "            if filtered_titles.count() == 0:\n",
        "                print(\"No Games found\")\n",
        "            else:\n",
        "                filtered_titles.show(truncate=False)\n",
        "    else:\n",
        "        print(\"Please enter a valid OS option.\")\n",
        "\n",
        "elif cond.lower() == 'price':\n",
        "    price = float(input(\"Enter price range: \"))\n",
        "    filtered_titles = output.filter(output.price_final <= price)\n",
        "    filtered_titles.show(truncate=False)\n",
        "\n",
        "elif cond.lower() == 'none':\n",
        "    output.show(truncate=False)\n",
        "\n",
        "else:\n",
        "    print(\"Please enter valid filter options.\")"
      ],
      "metadata": {
        "id": "eut7lxopDMBu",
        "colab": {
          "base_uri": "https://localhost:8080/"
        },
        "outputId": "2aacc3f2-a142-42f6-916a-0b4593a05433"
      },
      "execution_count": null,
      "outputs": [
        {
          "output_type": "stream",
          "name": "stdout",
          "text": [
            "Do you want to add filters(Os,Price,None): price\n",
            "Enter price range: 50\n",
            "+------+-------------------------+----+-----+-----+-----------------------+--------------+------------+-----------+------------+\n",
            "|app_id|title                    |win |mac  |linux|rating                 |positive_ratio|user_reviews|price_final|count_played|\n",
            "+------+-------------------------+----+-----+-----+-----------------------+--------------+------------+-----------+------------+\n",
            "|377160|Fallout 4                |true|false|false|Very Positive          |83            |198619      |6.59       |79          |\n",
            "|431960|Wallpaper Engine         |true|false|false|Overwhelmingly Positive|98            |609312      |3.99       |40          |\n",
            "|292030|The Witcher® 3: Wild Hunt|true|false|false|Overwhelmingly Positive|96            |656330      |39.99      |39          |\n",
            "|271590|Grand Theft Auto V       |true|false|false|Very Positive          |86            |1431104     |0.0        |35          |\n",
            "+------+-------------------------+----+-----+-----+-----------------------+--------------+------------+-----------+------------+\n",
            "\n"
          ]
        }
      ]
    },
    {
      "cell_type": "code",
      "source": [
        "#spark.stop()"
      ],
      "metadata": {
        "id": "EqFxxTw3DMAN"
      },
      "execution_count": null,
      "outputs": []
    },
    {
      "cell_type": "code",
      "source": [],
      "metadata": {
        "id": "wirhdugWDL9n"
      },
      "execution_count": null,
      "outputs": []
    },
    {
      "cell_type": "code",
      "source": [],
      "metadata": {
        "id": "CePXKJtEDL6M"
      },
      "execution_count": null,
      "outputs": []
    }
  ]
}