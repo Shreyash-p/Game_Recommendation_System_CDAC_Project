{
  "nbformat": 4,
  "nbformat_minor": 0,
  "metadata": {
    "colab": {
      "provenance": []
    },
    "kernelspec": {
      "name": "python3",
      "display_name": "Python 3"
    },
    "language_info": {
      "name": "python"
    }
  },
  "cells": [
    {
      "cell_type": "code",
      "execution_count": 1,
      "metadata": {
        "colab": {
          "base_uri": "https://localhost:8080/"
        },
        "id": "O3S_43RzAfIj",
        "outputId": "d6acf26f-0705-4f71-9834-4875c58beabc"
      },
      "outputs": [
        {
          "output_type": "stream",
          "name": "stdout",
          "text": [
            "Requirement already satisfied: pyspark in /usr/local/lib/python3.10/dist-packages (3.4.1)\n",
            "Requirement already satisfied: py4j==0.10.9.7 in /usr/local/lib/python3.10/dist-packages (from pyspark) (0.10.9.7)\n"
          ]
        }
      ],
      "source": [
        "pip install pyspark"
      ]
    },
    {
      "cell_type": "code",
      "source": [
        "from pyspark.sql import SparkSession\n",
        "from pyspark.sql.functions import col, count, when\n",
        "import matplotlib.pyplot as plt\n",
        "import seaborn as sns"
      ],
      "metadata": {
        "id": "WZrdWslEAprw"
      },
      "execution_count": 2,
      "outputs": []
    },
    {
      "cell_type": "code",
      "source": [
        "spark = SparkSession.builder.appName(\"Game_Recommendation_System\").getOrCreate()"
      ],
      "metadata": {
        "id": "syU7IQ8bFoWB"
      },
      "execution_count": 3,
      "outputs": []
    },
    {
      "cell_type": "code",
      "source": [
        "# Reading Data\n",
        "recom = spark.read.csv(\"/content/recommendations.csv\", header=True, inferSchema=True)\n",
        "games = spark.read.csv(\"/content/games.csv\", header=True, inferSchema=True)"
      ],
      "metadata": {
        "id": "2WYPxS-aAuJR"
      },
      "execution_count": 4,
      "outputs": []
    },
    {
      "cell_type": "code",
      "source": [
        "games.show(10)"
      ],
      "metadata": {
        "colab": {
          "base_uri": "https://localhost:8080/"
        },
        "id": "anc-FYCPA52J",
        "outputId": "b4bb29b7-4e8f-4730-805d-9c870473f4fd"
      },
      "execution_count": 5,
      "outputs": [
        {
          "output_type": "stream",
          "name": "stdout",
          "text": [
            "+------+--------------------+------------+----+-----+-----+---------------+--------------+------------+-----------+--------------+--------+----------+\n",
            "|app_id|               title|date_release| win|  mac|linux|         rating|positive_ratio|user_reviews|price_final|price_original|discount|steam_deck|\n",
            "+------+--------------------+------------+----+-----+-----+---------------+--------------+------------+-----------+--------------+--------+----------+\n",
            "| 13500|Prince of Persia:...|  2008-11-21|true|false|false|  Very Positive|            84|        2199|       9.99|          9.99|     0.0|      true|\n",
            "| 22364|BRINK: Agents of ...|  2011-08-03|true|false|false|       Positive|            85|          21|       2.99|          2.99|     0.0|      true|\n",
            "|113020|Monaco: What's Yo...|  2013-04-24|true| true| true|  Very Positive|            92|        3722|      14.99|         14.99|     0.0|      true|\n",
            "|226560|  Escape Dead Island|  2014-11-18|true|false|false|          Mixed|            61|         873|      14.99|         14.99|     0.0|      true|\n",
            "|249050|Dungeon of the EN...|  2014-10-27|true| true|false|  Very Positive|            88|        8784|      11.99|         11.99|     0.0|      true|\n",
            "|250180|        METAL SLUG 3|  2015-09-14|true|false|false|  Very Positive|            90|        5579|       7.99|          7.99|     0.0|      true|\n",
            "|253980|             Enclave|  2013-10-04|true| true| true|Mostly Positive|            75|        1608|       4.99|          4.99|     0.0|      true|\n",
            "|271850|Men of War: Assau...|  2014-05-16|true|false|false|          Mixed|            61|         199|       6.99|          6.99|     0.0|      true|\n",
            "|282900|Hyperdimension Ne...|  2015-01-29|true|false|false|  Very Positive|            94|        9686|      14.99|         14.99|     0.0|      true|\n",
            "| 19810|The Sum of All Fears|  2008-10-10|true|false|false|Mostly Positive|            75|          33|       9.99|          9.99|     0.0|      true|\n",
            "+------+--------------------+------------+----+-----+-----+---------------+--------------+------------+-----------+--------------+--------+----------+\n",
            "only showing top 10 rows\n",
            "\n"
          ]
        }
      ]
    },
    {
      "cell_type": "code",
      "source": [
        "recom.show(10)"
      ],
      "metadata": {
        "colab": {
          "base_uri": "https://localhost:8080/"
        },
        "id": "U1oT2IKwA5yq",
        "outputId": "6c9575cc-4aa8-4409-d28f-5fb2dd936820"
      },
      "execution_count": 6,
      "outputs": [
        {
          "output_type": "stream",
          "name": "stdout",
          "text": [
            "+-------+-------+-----+----------+--------------+-----+-------+---------+\n",
            "| app_id|helpful|funny|      date|is_recommended|hours|user_id|review_id|\n",
            "+-------+-------+-----+----------+--------------+-----+-------+---------+\n",
            "| 975370|      0|    0|2022-12-12|          true| 36.3|  47199|        0|\n",
            "| 304390|      4|    0|2017-02-17|         false| 11.5|   2376|        1|\n",
            "|1085660|      2|    0|2019-11-17|          true|336.5| 230757|        2|\n",
            "| 703080|      0|    0|2022-09-23|          true| 27.4| 235736|        3|\n",
            "| 526870|      0|    0|2021-01-10|          true|  7.9|  21721|        4|\n",
            "| 306130|      0|    0|2021-10-10|          true|  8.6|  41543|        5|\n",
            "| 238960|      0|    0|2017-11-25|          true|538.8|  80787|        6|\n",
            "|    730|      0|    0|2021-11-30|         false|157.5|  57879|        7|\n",
            "| 255710|      0|    0|2021-05-21|          true| 18.7| 321815|        8|\n",
            "| 289070|      0|    0|2020-05-26|          true|397.5| 412440|        9|\n",
            "+-------+-------+-----+----------+--------------+-----+-------+---------+\n",
            "only showing top 10 rows\n",
            "\n"
          ]
        }
      ]
    },
    {
      "cell_type": "code",
      "source": [
        "games.printSchema()"
      ],
      "metadata": {
        "colab": {
          "base_uri": "https://localhost:8080/"
        },
        "id": "zOKIvLAUBVt_",
        "outputId": "fd6ab3f7-762c-44e5-9e89-57d13bc9bf2c"
      },
      "execution_count": 7,
      "outputs": [
        {
          "output_type": "stream",
          "name": "stdout",
          "text": [
            "root\n",
            " |-- app_id: integer (nullable = true)\n",
            " |-- title: string (nullable = true)\n",
            " |-- date_release: date (nullable = true)\n",
            " |-- win: boolean (nullable = true)\n",
            " |-- mac: boolean (nullable = true)\n",
            " |-- linux: boolean (nullable = true)\n",
            " |-- rating: string (nullable = true)\n",
            " |-- positive_ratio: integer (nullable = true)\n",
            " |-- user_reviews: integer (nullable = true)\n",
            " |-- price_final: double (nullable = true)\n",
            " |-- price_original: double (nullable = true)\n",
            " |-- discount: double (nullable = true)\n",
            " |-- steam_deck: boolean (nullable = true)\n",
            "\n"
          ]
        }
      ]
    },
    {
      "cell_type": "code",
      "source": [
        "recom.printSchema()"
      ],
      "metadata": {
        "colab": {
          "base_uri": "https://localhost:8080/"
        },
        "id": "ApsYk0icBVny",
        "outputId": "2f5f5ac9-c78d-46ee-920f-c0f2fa34be35"
      },
      "execution_count": 8,
      "outputs": [
        {
          "output_type": "stream",
          "name": "stdout",
          "text": [
            "root\n",
            " |-- app_id: integer (nullable = true)\n",
            " |-- helpful: integer (nullable = true)\n",
            " |-- funny: integer (nullable = true)\n",
            " |-- date: date (nullable = true)\n",
            " |-- is_recommended: boolean (nullable = true)\n",
            " |-- hours: double (nullable = true)\n",
            " |-- user_id: integer (nullable = true)\n",
            " |-- review_id: integer (nullable = true)\n",
            "\n"
          ]
        }
      ]
    },
    {
      "cell_type": "code",
      "source": [
        "# Deleting unnecessary columns\n",
        "dropg = ['date_release', 'discount', 'steam_deck', 'price_original']\n",
        "dropr = ['helpful', 'funny', 'date', 'review_id']\n",
        "\n",
        "games = games.drop(*dropg)\n",
        "recom = recom.drop(*dropr)"
      ],
      "metadata": {
        "id": "MGkH8pJoA5wN"
      },
      "execution_count": 9,
      "outputs": []
    },
    {
      "cell_type": "code",
      "source": [
        "games.show(10)"
      ],
      "metadata": {
        "colab": {
          "base_uri": "https://localhost:8080/"
        },
        "id": "UWc5hoeaBJwo",
        "outputId": "5b363ee6-87f4-4f83-be65-1d98c5df6cd2"
      },
      "execution_count": 10,
      "outputs": [
        {
          "output_type": "stream",
          "name": "stdout",
          "text": [
            "+------+--------------------+----+-----+-----+---------------+--------------+------------+-----------+\n",
            "|app_id|               title| win|  mac|linux|         rating|positive_ratio|user_reviews|price_final|\n",
            "+------+--------------------+----+-----+-----+---------------+--------------+------------+-----------+\n",
            "| 13500|Prince of Persia:...|true|false|false|  Very Positive|            84|        2199|       9.99|\n",
            "| 22364|BRINK: Agents of ...|true|false|false|       Positive|            85|          21|       2.99|\n",
            "|113020|Monaco: What's Yo...|true| true| true|  Very Positive|            92|        3722|      14.99|\n",
            "|226560|  Escape Dead Island|true|false|false|          Mixed|            61|         873|      14.99|\n",
            "|249050|Dungeon of the EN...|true| true|false|  Very Positive|            88|        8784|      11.99|\n",
            "|250180|        METAL SLUG 3|true|false|false|  Very Positive|            90|        5579|       7.99|\n",
            "|253980|             Enclave|true| true| true|Mostly Positive|            75|        1608|       4.99|\n",
            "|271850|Men of War: Assau...|true|false|false|          Mixed|            61|         199|       6.99|\n",
            "|282900|Hyperdimension Ne...|true|false|false|  Very Positive|            94|        9686|      14.99|\n",
            "| 19810|The Sum of All Fears|true|false|false|Mostly Positive|            75|          33|       9.99|\n",
            "+------+--------------------+----+-----+-----+---------------+--------------+------------+-----------+\n",
            "only showing top 10 rows\n",
            "\n"
          ]
        }
      ]
    },
    {
      "cell_type": "code",
      "source": [
        "recom.show(10)"
      ],
      "metadata": {
        "colab": {
          "base_uri": "https://localhost:8080/"
        },
        "id": "GfJAPWatBJud",
        "outputId": "8fbf194b-6732-4091-fa08-b045e75828bc"
      },
      "execution_count": 11,
      "outputs": [
        {
          "output_type": "stream",
          "name": "stdout",
          "text": [
            "+-------+--------------+-----+-------+\n",
            "| app_id|is_recommended|hours|user_id|\n",
            "+-------+--------------+-----+-------+\n",
            "| 975370|          true| 36.3|  47199|\n",
            "| 304390|         false| 11.5|   2376|\n",
            "|1085660|          true|336.5| 230757|\n",
            "| 703080|          true| 27.4| 235736|\n",
            "| 526870|          true|  7.9|  21721|\n",
            "| 306130|          true|  8.6|  41543|\n",
            "| 238960|          true|538.8|  80787|\n",
            "|    730|         false|157.5|  57879|\n",
            "| 255710|          true| 18.7| 321815|\n",
            "| 289070|          true|397.5| 412440|\n",
            "+-------+--------------+-----+-------+\n",
            "only showing top 10 rows\n",
            "\n"
          ]
        }
      ]
    },
    {
      "cell_type": "code",
      "source": [
        "# Check null values in Data\n",
        "null_games = games.select([count(when(col(i).isNull(),i)).alias(i) for i in games.columns])\n",
        "null_games.show()"
      ],
      "metadata": {
        "colab": {
          "base_uri": "https://localhost:8080/"
        },
        "id": "S_jW0K_nGSXT",
        "outputId": "65cfb493-a9f9-42f3-bb6d-d87c0384d6c5"
      },
      "execution_count": 12,
      "outputs": [
        {
          "output_type": "stream",
          "name": "stdout",
          "text": [
            "+------+-----+---+---+-----+------+--------------+------------+-----------+\n",
            "|app_id|title|win|mac|linux|rating|positive_ratio|user_reviews|price_final|\n",
            "+------+-----+---+---+-----+------+--------------+------------+-----------+\n",
            "|     0|    0|  0|  0|    0|     0|             0|           0|          0|\n",
            "+------+-----+---+---+-----+------+--------------+------------+-----------+\n",
            "\n"
          ]
        }
      ]
    },
    {
      "cell_type": "code",
      "source": [
        "null_recom = recom.select([count(when(col(i).isNull(),i)).alias(i) for i in recom.columns])\n",
        "null_recom.show()"
      ],
      "metadata": {
        "colab": {
          "base_uri": "https://localhost:8080/"
        },
        "id": "WwGN1zJ4GnpA",
        "outputId": "383c5a70-3cdc-47b3-cdb6-6154d1277ce4"
      },
      "execution_count": 13,
      "outputs": [
        {
          "output_type": "stream",
          "name": "stdout",
          "text": [
            "+------+--------------+-----+-------+\n",
            "|app_id|is_recommended|hours|user_id|\n",
            "+------+--------------+-----+-------+\n",
            "|     0|             0|    0|      0|\n",
            "+------+--------------+-----+-------+\n",
            "\n"
          ]
        }
      ]
    },
    {
      "cell_type": "code",
      "source": [
        "# Visualizing the distribution of game ratings\n",
        "\n",
        "games_pandas = games.toPandas()\n",
        "\n",
        "plt.figure(figsize=(8, 6))\n",
        "sns.histplot(games_pandas['rating'], bins=20)\n",
        "plt.title(\"Distribution of Game Ratings\")\n",
        "plt.xlabel(\"Rating\")\n",
        "plt.ylabel(\"Frequency\")\n",
        "plt.xticks(rotation=90)\n",
        "plt.show()"
      ],
      "metadata": {
        "colab": {
          "base_uri": "https://localhost:8080/",
          "height": 730
        },
        "id": "7Qzpybpk-0Fo",
        "outputId": "6b060795-4a1a-415e-9dc0-83ed53d38799"
      },
      "execution_count": 25,
      "outputs": [
        {
          "output_type": "display_data",
          "data": {
            "text/plain": [
              "<Figure size 800x600 with 1 Axes>"
            ],
            "image/png": "[encoded data removed]"
          },
          "metadata": {}
        }
      ]
    },
    {
      "cell_type": "code",
      "source": [
        "# Demo inputs\n",
        "#  Grand Theft Auto V\n",
        "#  Dying Light 2 Stay Human\n",
        "#  Cyberpunk 2077\n",
        "#  Red Dead Redemption 2\n",
        "# Jurassic World Evolution 2\n",
        "# STAR WARS™: The Old Republic™\n",
        "# The Elder Scrolls® Online\n",
        "# FINAL FANTASY XIV Online\n",
        "# Farming Simulator 22"
      ],
      "metadata": {
        "id": "o4q2b3hfBJmI"
      },
      "execution_count": 68,
      "outputs": []
    },
    {
      "cell_type": "code",
      "source": [
        "# Taking a input game\n",
        "input_game_name = input(\"Enter the name of the game: \")\n",
        "target_app_id = games.filter(games.title == input_game_name).collect()\n",
        "target_app_id = target_app_id[0][\"app_id\"]\n",
        "target_app_id"
      ],
      "metadata": {
        "colab": {
          "base_uri": "https://localhost:8080/"
        },
        "id": "icXwg4X3BJjQ",
        "outputId": "719867c5-614d-45e9-cdf5-fdccbac9aee0"
      },
      "execution_count": 101,
      "outputs": [
        {
          "name": "stdout",
          "output_type": "stream",
          "text": [
            "Enter the name of the game: FINAL FANTASY XIV Online\n"
          ]
        },
        {
          "output_type": "execute_result",
          "data": {
            "text/plain": [
              "39210"
            ]
          },
          "metadata": {},
          "execution_count": 101
        }
      ]
    },
    {
      "cell_type": "code",
      "source": [
        "filtered_games = games.filter(games.app_id == target_app_id)\n",
        "\n",
        "filtered_games.show()"
      ],
      "metadata": {
        "id": "E49vbLL8BJgm",
        "colab": {
          "base_uri": "https://localhost:8080/"
        },
        "outputId": "335000ac-4fb3-45ab-ea2a-948fe7750486"
      },
      "execution_count": 102,
      "outputs": [
        {
          "output_type": "stream",
          "name": "stdout",
          "text": [
            "+------+--------------------+----+-----+-----+-------------+--------------+------------+-----------+\n",
            "|app_id|               title| win|  mac|linux|       rating|positive_ratio|user_reviews|price_final|\n",
            "+------+--------------------+----+-----+-----+-------------+--------------+------------+-----------+\n",
            "| 39210|FINAL FANTASY XIV...|true|false|false|Very Positive|            88|       60787|      19.99|\n",
            "+------+--------------------+----+-----+-----+-------------+--------------+------------+-----------+\n",
            "\n"
          ]
        }
      ]
    },
    {
      "cell_type": "code",
      "source": [
        "# Checking how many users have played this game(app_id) from recom table\n",
        "target_user_ids = recom.filter(recom.app_id == target_app_id)\n",
        "target_user_ids.show(5)"
      ],
      "metadata": {
        "id": "GZXvUqfvBJdp",
        "colab": {
          "base_uri": "https://localhost:8080/"
        },
        "outputId": "94f858e8-b6ad-4c3b-fda5-eb37e8381efb"
      },
      "execution_count": 103,
      "outputs": [
        {
          "output_type": "stream",
          "name": "stdout",
          "text": [
            "+------+--------------+-----+--------+\n",
            "|app_id|is_recommended|hours| user_id|\n",
            "+------+--------------+-----+--------+\n",
            "| 39210|          true|123.1| 4835698|\n",
            "| 39210|          true|169.4| 6526765|\n",
            "| 39210|          true|  5.8| 2147622|\n",
            "| 39210|          true|  9.0|10109373|\n",
            "| 39210|          true| 37.2| 5806180|\n",
            "+------+--------------+-----+--------+\n",
            "only showing top 5 rows\n",
            "\n"
          ]
        }
      ]
    },
    {
      "cell_type": "code",
      "source": [
        "# Sorting DataFrame(usr_id) by hours\n",
        "#To get the players who played the game more. Because they liked the game more so they can give more accurate recommendation\n",
        "# Selecting top 1000 players\n",
        "usr_id = target_user_ids.orderBy(\"hours\", ascending=False).limit(1000)\n",
        "usr_id.show(5)"
      ],
      "metadata": {
        "id": "BiYEvuUmBJa6",
        "colab": {
          "base_uri": "https://localhost:8080/"
        },
        "outputId": "963083d4-c3bb-40e4-c95f-4896de919bdd"
      },
      "execution_count": 104,
      "outputs": [
        {
          "output_type": "stream",
          "name": "stdout",
          "text": [
            "+------+--------------+-----+--------+\n",
            "|app_id|is_recommended|hours| user_id|\n",
            "+------+--------------+-----+--------+\n",
            "| 39210|          true|999.9| 6550629|\n",
            "| 39210|         false|999.8| 6310334|\n",
            "| 39210|          true|999.7| 6110833|\n",
            "| 39210|          true|999.7|12148270|\n",
            "| 39210|          true|999.6| 6157273|\n",
            "+------+--------------+-----+--------+\n",
            "only showing top 5 rows\n",
            "\n"
          ]
        }
      ]
    },
    {
      "cell_type": "code",
      "source": [
        "# Extracting user_id of these users\n",
        "users = usr_id.select(\"user_id\").rdd.flatMap(lambda x: x).collect()"
      ],
      "metadata": {
        "id": "YlMLjqBsBJYO"
      },
      "execution_count": 105,
      "outputs": []
    },
    {
      "cell_type": "code",
      "source": [
        "# Checking if recom['user_id'] isin users Series\n",
        "# Filter recommendations based on selected users\n",
        "final_df = recom.filter(recom.user_id.isin(users))\n",
        "final_df.show(5)"
      ],
      "metadata": {
        "id": "IfjqZ-qHBJVe",
        "colab": {
          "base_uri": "https://localhost:8080/"
        },
        "outputId": "5cd344de-5a30-46eb-e3ed-6f86713b0742"
      },
      "execution_count": 106,
      "outputs": [
        {
          "output_type": "stream",
          "name": "stdout",
          "text": [
            "+-------+--------------+-----+--------+\n",
            "| app_id|is_recommended|hours| user_id|\n",
            "+-------+--------------+-----+--------+\n",
            "|  39210|          true|928.5| 3972621|\n",
            "|    730|          true|608.7|10073658|\n",
            "|1284210|          true|  0.2| 1061500|\n",
            "|  39210|          true|971.9|  613706|\n",
            "|  39210|          true|995.6| 3715030|\n",
            "+-------+--------------+-----+--------+\n",
            "only showing top 5 rows\n",
            "\n"
          ]
        }
      ]
    },
    {
      "cell_type": "code",
      "source": [
        "# Counting how many users have played these games\n",
        "# Checing how many users have played a game & taking the top 7 games\n",
        "recom_games = final_df.groupBy(\"app_id\").count().orderBy(\"count\", ascending=False).limit(7).collect()\n",
        "recom_games"
      ],
      "metadata": {
        "id": "_XNMD-_VBJNT",
        "colab": {
          "base_uri": "https://localhost:8080/"
        },
        "outputId": "87181078-9b34-43df-93f9-8423481d9460"
      },
      "execution_count": 107,
      "outputs": [
        {
          "output_type": "execute_result",
          "data": {
            "text/plain": [
              "[Row(app_id=39210, count=1000),\n",
              " Row(app_id=306130, count=20),\n",
              " Row(app_id=1091500, count=13),\n",
              " Row(app_id=435150, count=12),\n",
              " Row(app_id=1245620, count=11),\n",
              " Row(app_id=1085660, count=11),\n",
              " Row(app_id=238960, count=11)]"
            ]
          },
          "metadata": {},
          "execution_count": 107
        }
      ]
    },
    {
      "cell_type": "code",
      "source": [
        "# Extract app_id from recom_games\n",
        "apps = [row[\"app_id\"] for row in recom_games[1:]]\n",
        "apps"
      ],
      "metadata": {
        "id": "QGkEKtWLBJJ1",
        "colab": {
          "base_uri": "https://localhost:8080/"
        },
        "outputId": "414805b9-18bb-4d39-acaf-3482e4f49bca"
      },
      "execution_count": 108,
      "outputs": [
        {
          "output_type": "execute_result",
          "data": {
            "text/plain": [
              "[306130, 1091500, 435150, 1245620, 1085660, 238960]"
            ]
          },
          "metadata": {},
          "execution_count": 108
        }
      ]
    },
    {
      "cell_type": "code",
      "source": [
        "output = games.filter(games.app_id.isin(apps))"
      ],
      "metadata": {
        "id": "ei-vGmgpDME-"
      },
      "execution_count": 109,
      "outputs": []
    },
    {
      "cell_type": "code",
      "source": [
        "# Filters\n",
        "cond = input(\"Do you want to add filters(Os,Price,None): \")\n",
        "\n",
        "if cond.lower() == 'os':\n",
        "    os = input(\"Enter preferred Os system(windows/mac/linux/any): \").lower()\n",
        "    if(os=='windows'):\n",
        "      os = 'win'\n",
        "\n",
        "    if os in ['win', 'mac', 'linux', 'any']:\n",
        "        if os == 'any':\n",
        "            output.show(truncate=False)\n",
        "        else:\n",
        "            os_col = os if os != 'any' else 'win'\n",
        "            filtered_titles = output.filter(output[os_col] == True)\n",
        "            if filtered_titles.count() == 0:\n",
        "                print(\"No Games found\")\n",
        "            else:\n",
        "                filtered_titles.show(truncate=False)\n",
        "    else:\n",
        "        print(\"Please enter a valid OS option.\")\n",
        "\n",
        "elif cond.lower() == 'price':\n",
        "    price = float(input(\"Enter price range: \"))\n",
        "    filtered_titles = output.filter(output.price_final <= price)\n",
        "    filtered_titles.show(truncate=False)\n",
        "\n",
        "elif cond.lower() == 'none':\n",
        "    output.show(truncate=False)\n",
        "\n",
        "else:\n",
        "    print(\"Please enter valid filter options.\")"
      ],
      "metadata": {
        "id": "eut7lxopDMBu",
        "colab": {
          "base_uri": "https://localhost:8080/"
        },
        "outputId": "0c871ddd-a327-418d-fd20-ab528dfdafe1"
      },
      "execution_count": 110,
      "outputs": [
        {
          "output_type": "stream",
          "name": "stdout",
          "text": [
            "Do you want to add filters(Os,Price,None): none\n",
            "+-------+---------------------------------------------+----+-----+-----+-----------------------+--------------+------------+-----------+\n",
            "|app_id |title                                        |win |mac  |linux|rating                 |positive_ratio|user_reviews|price_final|\n",
            "+-------+---------------------------------------------+----+-----+-----+-----------------------+--------------+------------+-----------+\n",
            "|238960 |Path of Exile                                |true|true |false|Very Positive          |87            |202504      |0.0        |\n",
            "|306130 |The Elder Scrolls® Online                    |true|true |false|Very Positive          |83            |111642      |19.99      |\n",
            "|435150 |Divinity: Original Sin 2 - Definitive Edition|true|true |false|Overwhelmingly Positive|95            |142298      |44.99      |\n",
            "|1085660|Destiny 2                                    |true|false|false|Very Positive          |82            |549598      |0.0        |\n",
            "|1091500|Cyberpunk 2077                               |true|false|false|Mostly Positive        |79            |541364      |59.99      |\n",
            "|1245620|ELDEN RING                                   |true|false|false|Very Positive          |92            |508985      |59.99      |\n",
            "+-------+---------------------------------------------+----+-----+-----+-----------------------+--------------+------------+-----------+\n",
            "\n"
          ]
        }
      ]
    },
    {
      "cell_type": "code",
      "source": [],
      "metadata": {
        "id": "EqFxxTw3DMAN"
      },
      "execution_count": 24,
      "outputs": []
    },
    {
      "cell_type": "code",
      "source": [],
      "metadata": {
        "id": "wirhdugWDL9n"
      },
      "execution_count": 24,
      "outputs": []
    },
    {
      "cell_type": "code",
      "source": [],
      "metadata": {
        "id": "CePXKJtEDL6M"
      },
      "execution_count": 24,
      "outputs": []
    }
  ]
}